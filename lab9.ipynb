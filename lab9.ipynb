{
  "cells": [
    {
      "cell_type": "markdown",
      "metadata": {
        "id": "view-in-github",
        "colab_type": "text"
      },
      "source": [
        "<a href=\"https://colab.research.google.com/github/creator137/FOR_KT/blob/main/lab9.ipynb\" target=\"_parent\"><img src=\"https://colab.research.google.com/assets/colab-badge.svg\" alt=\"Open In Colab\"/></a>"
      ]
    },
    {
      "cell_type": "markdown",
      "metadata": {
        "id": "m2s4kN_QPQVe"
      },
      "source": [
        "# Введение в обучение с подкреплением  (Reinforcement Learning)\n",
        "\n",
        "\n",
        "<center>\n",
        "<img src=\"https://raw.githubusercontent.com/jcformanek/jcformanek.github.io/master/docs/assets/images/rl_in_space.png\" width=\"100%\" />\n",
        "</center>\n",
        "\n",
        "\n",
        "\n",
        "**Введение**\n",
        "\n",
        "На этом семинаре мы изучим обучение с подкреплением - тип машинного обучения без учителя, где агент учится выбирать действия, которые приводят к максимальному вознаграждению в долгосрочной перспективе. Обучение с подкреплением используется в широком спектре сложных задач, в том числе - в видеоиграх, например, [Atari](https://www.deepmind.com/blog/agent57-outperforming-the-human-atari-benchmark), [StarCraft II](https://www.deepmind.com/blog/alphastar-mastering-the-real-time-strategy-game-starcraft-ii) и [Dota II](https://openai.com/five/).\n",
        "\n",
        "На семинаре изучим классическую среду - [CartPole](https://www.gymlibrary.ml/environments/classic_control/cart_pole/), где агент должен научиться балансировать шестом на тележке (см лекцию), используя несколько различных подходов RL. По пути вы познакомитесь с некоторыми из самых важных концепций и терминологии в RL.\n",
        "\n",
        "**Темы:**\n",
        "* Reinforcement Learning (RL, Обучение с подкреплением)\n",
        "* Random Policy Search (Случайный поиск политики)\n",
        "* Policy Gradient (Градиент политики)\n",
        "* Q-Learning\n",
        "\n",
        "\n",
        "**Что надо сделать для лучшего понимания:**\n",
        "\n",
        "* почитать про библиотеку [JAX](https://github.com/google/jax).\n",
        "* вспомнить нейроки.\n",
        "\n"
      ]
    },
    {
      "cell_type": "markdown",
      "metadata": {
        "id": "6EqhIg1odqg0"
      },
      "source": [
        "### Настраиваем среду"
      ]
    },
    {
      "cell_type": "code",
      "execution_count": null,
      "metadata": {
        "id": "4boGA9rYdt9l"
      },
      "outputs": [],
      "source": [
        "# @title Установка необходимых пакетов (надо просто запустить!) { display-mode: \"form\" }\n",
        "# @markdown Может занять несколько минут\n",
        "%%capture\n",
        "!pip install jaxlib\n",
        "!pip install jax\n",
        "!pip install git+https://github.com/deepmind/dm-haiku\n",
        "!pip install gym==0.25\n",
        "!pip install gym[box2d]\n",
        "!pip install optax\n",
        "!pip install matplotlib\n",
        "!pip install chex\n",
        "!pip install gym[classic_control]"
      ]
    },
    {
      "cell_type": "code",
      "execution_count": null,
      "metadata": {
        "id": "gwbqggmcRjMy"
      },
      "outputs": [],
      "source": [
        "# @title Импорт необходимых пакетов (просто запустите ячейку) { display-mode: \"form\" }\n",
        "%%capture\n",
        "import copy\n",
        "from shutil import rmtree # deleting directories\n",
        "import random\n",
        "import collections # useful data structures\n",
        "import numpy as np\n",
        "import gym # reinforcement learning environments\n",
        "from gym.wrappers import RecordVideo\n",
        "import jax\n",
        "import jax.numpy as jnp # jax numpy\n",
        "import haiku as hk # jax neural network library\n",
        "import optax # jax optimizer library\n",
        "import matplotlib.pyplot as plt # graph plotting library\n",
        "from IPython.display import HTML\n",
        "from base64 import b64encode\n",
        "import chex\n",
        "\n",
        "# Hide warnings\n",
        "import warnings\n",
        "warnings.filterwarnings('ignore')"
      ]
    },
    {
      "cell_type": "markdown",
      "metadata": {
        "id": "-ZUp8i37dFbU"
      },
      "source": [
        "## 1. Ключевые концепции обучения с подкреплением\n",
        "\n",
        "Обучение с подкреплением (RL) является подразделом машинного обучения (ML). В отличие от таких областей, как контролируемое обучение, где мы даем примеры ожидаемого поведения нашим моделям, RL фокусируется на *целеориентированном* обучении из взаимодействий методом проб и ошибок. Алгоритмы RL изучают, что делать (т. е. какие оптимальные действия предпринять) в среде, чтобы максимизировать некий сигнал вознаграждения. В таких условиях, как видеоигра, сигналом вознаграждения может быть счет игры, т. е. алгоритмы RL будут пытаться максимизировать счет в игре, выбирая лучшие действия.\n",
        "\n",
        "<center>\n",
        "<img src=\"https://pettingzoo.farama.org/_images/environments-demo.gif\" width=\"40%\" />\n",
        "</center>\n",
        "\n",
        "[*Image Source*](https://pettingzoo.farama.org/)\n",
        "\n",
        "Другими словами, в RL у нас есть **агент**, который воспринимает **наблюдение** $o_t$ текущего состояния $s_t$ **окружающей среды** и должен выбрать **действие** $a_t$ для выполнения.\n",
        "\n",
        "Затем окружающая среда переходит в новое состояние $s_{t+1}$ в ответ на действие агента, а также дает агенту скалярное вознаграждение $r_t$, чтобы указать, насколько хорошим или плохим было выбранное действие, учитывая состояние окружающей среды.\n",
        "\n",
        "Целью в RL является максимизация агентом суммы вознаграждения, которое он получает от окружающей среды с течением времени. Нижний индекс $t$ используется для указания номера временного шага, т. е. $s_0$ - это состояние окружающей среды на начальном временном шаге, а $a_{99}$ - это действие агента на $99-м$ временном шаге."
      ]
    },
    {
      "cell_type": "markdown",
      "metadata": {
        "id": "Ghgy69hFRjMz"
      },
      "source": [
        "### Среда - OpenAI Gym\n",
        "Как упоминалось выше, среда получает от агента действие $a_t$ и возвращает вознаграждение $r_t$ и наблюдение $o_t$.\n",
        "\n",
        "OpenAI разработал пакет для Python под названием **Gym**, который включает реализации популярных сред и простой интерфейс для взаимодействия агента RL. Чтобы использовать поддерживаемую [среду gym](https://www.gymlibrary.ml/), все, что вам нужно сделать, это передать имя среды в функцию  `gym.make(<environment_name>)`.\n",
        "\n",
        "В этом уроке мы будем использовать простую среду под названием **CartPole**. В CartPole задача агента — научиться балансировать на шесте как можно дольше, перемещая тележку *влево* или *вправо*.\n",
        "\n",
        "<img src=\"https://user-images.githubusercontent.com/10854026/32486103-f15f19de-c3a5-11e7-81de-0605df939497.gif\" width=\"50%\" />"
      ]
    },
    {
      "cell_type": "code",
      "execution_count": null,
      "metadata": {
        "id": "WfxzajMYRjMz"
      },
      "outputs": [],
      "source": [
        "# Create the environment\n",
        "env_name = \"CartPole-v0\"\n",
        "env = gym.make(env_name)"
      ]
    },
    {
      "cell_type": "markdown",
      "metadata": {
        "id": "y_BbftaJj3zu"
      },
      "source": [
        "### Состояние (States) и Наблюдение (Observations) - $s_t$ and $o_t$\n",
        "\n",
        "В RL агент воспринимает наблюдение за состоянием среды. В некоторых настройках наблюдение может включать всю информацию, лежащую в основе состояния среды. Такая среда называется **полностью наблюдаемой**. В других настройках агент может получать только частичную информацию о состоянии среды в своем наблюдении. Такая среда называется **частично наблюдаемой**.\n",
        "\n",
        "В оставшейся части этого руководства мы будем предполагать, что среда полностью наблюдаема, и поэтому будем использовать состояние $s_t$ и наблюдение $o_t$ взаимозаменяемо. В Gym мы получаем начальное наблюдение из среды, вызывая функцию `env.reset()`."
      ]
    },
    {
      "cell_type": "code",
      "execution_count": null,
      "metadata": {
        "id": "HdS8nqOgRjM0",
        "colab": {
          "base_uri": "https://localhost:8080/"
        },
        "outputId": "8f7f2653-120c-40c1-c306-1ab1bdb9adb3"
      },
      "outputs": [
        {
          "output_type": "stream",
          "name": "stdout",
          "text": [
            "Initial State:: [-0.02916881 -0.03773049  0.00677988  0.00423799]\n",
            "Environment Obs Space Shape: (4,)\n"
          ]
        }
      ],
      "source": [
        "# Reset the environment\n",
        "s_0 = env.reset()\n",
        "print(\"Initial State::\", s_0)\n",
        "\n",
        "# Get environment obs space\n",
        "obs_shape = env.observation_space.shape\n",
        "print(\"Environment Obs Space Shape:\", obs_shape)"
      ]
    },
    {
      "cell_type": "markdown",
      "metadata": {
        "id": "pUNX6mbotABo"
      },
      "source": [
        "В CartPole состояние окружающей среды представлено четырьмя числами: *угловое положение полюса, угловая скорость полюса, положение тележки, скорость тележки*."
      ]
    },
    {
      "cell_type": "markdown",
      "metadata": {
        "id": "hL1Nkgy7nUfn"
      },
      "source": [
        "### Действия (Actions) - $a_t$\n",
        "\n",
        "В RL действия обычно либо **дискретные**, либо **непрерывные**. Непрерывные действия задаются вектором действительных чисел. Дискретные действия задаются целочисленным значением. В средах, где мы можем подсчитать конечный набор действий, мы обычно используем дискретные действия.\n",
        "\n",
        "В CartPole есть только два действия: *влево* и *вправо*. Таким образом, действия могут быть представлены целыми числами $0$ и $1$. В gym мы можем легко получить список возможных действий следующим образом:"
      ]
    },
    {
      "cell_type": "code",
      "execution_count": null,
      "metadata": {
        "id": "uOLZqU_LpIXh",
        "colab": {
          "base_uri": "https://localhost:8080/"
        },
        "outputId": "0ab4ac6f-f744-40c7-de3b-939db74a5065"
      },
      "outputs": [
        {
          "output_type": "stream",
          "name": "stdout",
          "text": [
            "Environment action space: Discrete(2)\n",
            "Number of actions: 2\n"
          ]
        }
      ],
      "source": [
        "# Get action space - e.g. discrete or continuous\n",
        "print(f\"Environment action space: {env.action_space}\")\n",
        "\n",
        "# Get num actions\n",
        "num_actions = env.action_space.n\n",
        "print(f\"Number of actions: {num_actions}\")"
      ]
    },
    {
      "cell_type": "markdown",
      "metadata": {
        "id": "tRsflxbDpoPm"
      },
      "source": [
        "### Политика агента (The Agent's Policy) - $\\pi$\n",
        "\n",
        "В RL агент выбирает действия на основе полученных наблюдений. Мы можем представить процесс выбора действия агента как функцию, которая принимает наблюдение в качестве входных данных и возвращает действие в качестве выходных данных. В RL мы обычно называем эту функцию **политикой** агента и обозначаем ее $\\pi(s_t)=a_t$. В RL мы обычно параметризуем нашу политику каким-либо образом, а затем пытаемся узнать оптимальные параметры. Параметризованная политика обычно обозначается $\\pi_\\theta$, где $\\theta$ — это набор параметров.\n",
        "\n",
        "**Упражнение 1:** В качестве упражнения давайте реализуем простую политику, которая принимает набор параметров и наблюдение в качестве входных данных и возвращает действие. Предположим, что наблюдение — это вектор из четырех чисел, как наблюдение CartPole, и что действие должно быть либо $0$, либо $1$. Предположим также, что параметры — это вектор из четырех действительных чисел. Тогда действие должно быть вычислено следующим образом.\n",
        "\n",
        "\n",
        "1. Вычислите [скалярное произведение векторов](https://www.mathsisfun.com/algebra/vectors-dot-product.html) между наблюдением и параметрами.\n",
        "2. Если результат больше нуля, верните действие $1$.\n",
        "3. В противном случае верните действие $0$.\n",
        "\n",
        "В этом упражнении мы постараемся использовать JAX как можно чаще. Поэтому постарайтесь использовать методы JAX для этой задачи. Ниже приведены некоторые полезные методы, которые вы можете использовать. Вам нужно будет завершить код в блоке ниже, заменив `...` правильным кодом.\n",
        "\n",
        "\n",
        "**Полезные методы:**\n",
        "* Вычислите скалярное произведение векторов с помощью `jax.numpy.dot` ([docs](https://jax.readthedocs.io/en/latest/_autosummary/jax.numpy.dot.html)).\n",
        "\n",
        "* Когда вы пытаетесь условно присвоить значение $0$ или $1$ действию на основе результата скалярного произведения, вам следует использовать `jax.lax.select` ([docs](https://jax.readthedocs.io/en/latest/_autosummary/jax.lax.select.html#jax.lax.select)).\n",
        "\n",
        "Метод `jax.lax.select` принимает три аргумента в качестве входных данных. Первый аргумент — это оператор, который будет оцениваться как `True` или `False`.\n",
        "\n",
        "Если оператор равен `True`, то `jax.lax.select` вернет свой второй аргумент.\n",
        "\n",
        "Если оператор имеет значение `False`, `jax.lax.select` вернет свой третий аргумент.\n",
        "\n"
      ]
    },
    {
      "cell_type": "code",
      "execution_count": null,
      "metadata": {
        "id": "KSGCd7XB1z8k"
      },
      "outputs": [],
      "source": [
        "def linear_policy(params, obs):\n",
        "  \"\"\"A simple linear policy\n",
        "\n",
        "  Args:\n",
        "    params: a vector of four real-numbers that give the parameters of the policy\n",
        "    obs: a vector of four real-numbers that give the agent's observation\n",
        "\n",
        "  Returns:\n",
        "    a discrete action given by a 0 or 1\n",
        "  \"\"\"\n",
        "  # YOUR CODE\n",
        "  dot_product_result = jnp.dot(params, obs)\n",
        "\n",
        "  action = jax.lax.select(\n",
        "      dot_product_result > 0, # boolean statement goes here\n",
        "      1, # result when the statement is True goes here\n",
        "      0, # result when the statement is False goes here\n",
        "  )\n",
        "  # END YOUR CODE\n",
        "  return action"
      ]
    },
    {
      "cell_type": "code",
      "execution_count": null,
      "metadata": {
        "id": "9EnnBvceb1f3",
        "colab": {
          "base_uri": "https://localhost:8080/"
        },
        "outputId": "2a276574-fb06-4f7f-8fe9-2cc538424694"
      },
      "outputs": [
        {
          "output_type": "stream",
          "name": "stdout",
          "text": [
            "Your function is correct!\n"
          ]
        }
      ],
      "source": [
        "# @title Проверка упр 1  { display-mode: \"form\" }\n",
        "\n",
        "def check_linear_policy(linear_policy):\n",
        "  fixed_obs = jnp.array([1,1,2,4])\n",
        "\n",
        "  # check case1 - negative dot product.\n",
        "  # weights\n",
        "  params1 = jnp.array([1,1,1,1])\n",
        "  params2 = jnp.array([-1,-1,-1,-1])\n",
        "\n",
        "  hint1 = f\"Неправильный ответ, ваша линейная политика неверна. Действие при \\\n",
        "obs={fixed_obs} и params={params1} должно быть 1\"\n",
        "\n",
        "  hint2 = f\"Неправильный ответ, ваша линейная политика неверна. Действие при \\\n",
        "obs={fixed_obs} и params={params2} должно быть 0\"\n",
        "\n",
        "  hint = None\n",
        "  if linear_policy(params1, fixed_obs) != 1:\n",
        "    hint = hint1\n",
        "  elif linear_policy(params2, fixed_obs) != 0:\n",
        "    hint = hint2\n",
        "\n",
        "  if hint is not None:\n",
        "    print(hint)\n",
        "  else:\n",
        "    print(\"Your function is correct!\")\n",
        "\n",
        "try:\n",
        "  check_linear_policy(linear_policy)\n",
        "except Exception as e:\n",
        "    print(\"An Error Occured: {}\".format(e))"
      ]
    },
    {
      "cell_type": "markdown",
      "metadata": {
        "id": "PkuvT-jf6Ieh"
      },
      "source": [
        "### Функция перехода среды - $P$\n",
        "\n",
        "Теперь, когда у нас есть политика, мы можем передавать действия от агента среде. Затем среда перейдет в новое состояние в ответ на действие агента.\n",
        "\n",
        "В RL мы моделируем этот процесс с помощью **функции перехода состояния** $P$, которая принимает текущее состояние $s_t$ и действие $a_t$ в качестве входных данных и возвращает следующее состояние $s_{t+1}$ в качестве выходных данных:\n",
        "\n",
        "<center>\n",
        "$s_{t+1}=P(s_t, a_t)$\n",
        "</center>\n",
        "\n",
        "В gym мы можем передавать действия среде, вызывая функцию `env.step(<action>)`. Затем функция вернет четыре значения:\n",
        "- **следующее наблюдение**\n",
        "- **награду** за выполненное действие\n",
        "- логический флаг, указывающий, **завершена** игра\n",
        "- некоторую **дополнительную** информацию."
      ]
    },
    {
      "cell_type": "code",
      "execution_count": null,
      "metadata": {
        "id": "hh0j9-Tk7olb",
        "colab": {
          "base_uri": "https://localhost:8080/"
        },
        "outputId": "2ed1ae1b-0a77-44a8-8173-3808fcd7db7f"
      },
      "outputs": [
        {
          "output_type": "stream",
          "name": "stdout",
          "text": [
            "Observation: [-0.03029112 -0.00320291  0.02971926  0.02291061]\n",
            "Action: 1\n",
            "Next observation: [-0.03035518  0.19148052  0.03017747 -0.2602494 ]\n",
            "Reward: 1.0\n",
            "Game is done: False\n"
          ]
        }
      ],
      "source": [
        "# Get the initial obs by resetting the env\n",
        "initial_obs = env.reset()\n",
        "\n",
        "# Randomly sample actions from env\n",
        "action = env.action_space.sample()\n",
        "\n",
        "# Step the environment\n",
        "next_obs, reward, done, info = env.step(action)\n",
        "\n",
        "print(\"Observation:\", initial_obs)\n",
        "print(\"Action:\", action)\n",
        "print(\"Next observation:\", next_obs)\n",
        "print(\"Reward:\", reward)\n",
        "print(\"Game is done:\", done)"
      ]
    },
    {
      "cell_type": "markdown",
      "metadata": {
        "id": "bX9iZtu48UYn"
      },
      "source": [
        "### Возврат эпизода - $R_t$\n",
        "\n",
        "В RL мы обычно разбиваем взаимодействие агента с окружающей средой на **эпизоды**. Сумма всех вознаграждений, собранных во время эпизода, - это то, что мы называем **возвратом** эпизода - $R_t$:\n",
        "\n",
        "<center>\n",
        "$R_t=\\sum_{t=0}^Tr_t$,\n",
        "</center>\n",
        "\n",
        "где $r_t$ - это вознаграждение в момент времени $t$, а $T$ - это последний временной шаг. Цель в RL - выбрать действия, которые максимизируют этот ожидаемый будущий возврат $R_t$."
      ]
    },
    {
      "cell_type": "markdown",
      "metadata": {
        "id": "y6KZA1Nq9p47"
      },
      "source": [
        "### Цикл агент-среда\n",
        "Теперь, когда мы знаем, что такое политика, и знаем, как пошагово проходить среду, давайте закроем цикл агент-среда.\n",
        "\n",
        "**Упражнение 2:** Напишите функцию, которая запускает один эпизод CartPole, последовательно выбирая действия и пошагово проходя среду. Вам следует использовать линейную политику, которую мы определили ранее, для выбора действий. Функция должна отслеживать полученное вознаграждение и выводить возврат в конце эпизода.\n",
        "\n",
        "В CartPole агент получает вознаграждение `1` за каждый временной шаг, когда шест все еще стоит вертикально. Если шест падает, игра заканчивается, и агент больше не получает вознаграждения. Игра также заканчивается после `200` временных шагов, поэтому максимальное вознаграждение, которое может получить агент, составляет `200`."
      ]
    },
    {
      "cell_type": "code",
      "execution_count": null,
      "metadata": {
        "id": "Buy0X7mi-gHP"
      },
      "outputs": [],
      "source": [
        "def run_episode(env):\n",
        "  episode_return = 0 # counter to keep track of rewards\n",
        "  done = False # initially set to False\n",
        "  params = jnp.array([1,-2,2,-1]) # fixed policy parameters\n",
        "\n",
        "  ## YOUR CODE\n",
        "\n",
        "  obs = env.reset() # TODO: get the initial obs from the env\n",
        "\n",
        "  while not done: # loop until episode is done\n",
        "\n",
        "    action = linear_policy(params, obs) # TODO: compute action using linear policy\n",
        "    action = np.array(action) # We need to the convert the action from the policy to a np.array\n",
        "\n",
        "    obs, reward, done, info = env.step(action) # TODO: step the environment\n",
        "\n",
        "    episode_return += reward # TODO: add reward to episode return\n",
        "\n",
        "  return episode_return"
      ]
    },
    {
      "cell_type": "code",
      "execution_count": null,
      "metadata": {
        "id": "bA2Orj9PVbKO",
        "colab": {
          "base_uri": "https://localhost:8080/"
        },
        "outputId": "a351cc71-b8ce-42e0-f171-183243d3587a"
      },
      "outputs": [
        {
          "output_type": "stream",
          "name": "stdout",
          "text": [
            "Looks correct!\n"
          ]
        }
      ],
      "source": [
        "# @title Проверка упр 2 (run me) { display-mode: \"form\" }\n",
        "\n",
        "try:\n",
        "  env.seed(42)\n",
        "  if run_episode(env) == 31:\n",
        "    print(\"Looks correct!\")\n",
        "  else:\n",
        "    print(\"Looks like your implementation might be wrong.\")\n",
        "except Exception as e:\n",
        "    print(\"An Error Occured: {}\".format(e))"
      ]
    },
    {
      "cell_type": "markdown",
      "metadata": {
        "id": "fUGdzHxJnZGl"
      },
      "source": [
        "В CartPole среда считается решенной, когда агент может надежно достичь возврата эпизода 500. Как вы можете видеть, наша текущая политика далека от оптимальной.\n",
        "\n",
        "Один из способов найти оптимальную политику — это случайным образом пробовать разные политики, пока не найдем оптимальную. Эта стратегия называется случайным поиском политики и может быть на удивление эффективной.\n",
        "\n",
        "Прежде чем мы реализуем случайный поиск политики, давайте быстро рассмотрим общий цикл обучения RL, который мы будем использовать для реализации алгоритмов в оставшейся части этого руководства.\n",
        "\n",
        "### Цикл обучения RL общего назначения\n",
        "Мы реализовали для вас цикл обучения RL общего назначения. Цикл обучения принимает несколько аргументов в качестве входных данных, но три наиболее важных для понимания — это `agent_select_action_func`, `agent_learn_func` и `agent_memory`.\n",
        "\n",
        "* `agent_select_action_func` — это функция, которую мы определяем и можем передать в цикл обучения. Функция принимает наблюдение и набор `agent_params` в качестве входных данных и должна возвращать действие.\n",
        "* `agent_learn_func` — это еще один метод, который мы определяем и передаем в цикл обучения. Он должен принимать параметры агента и некоторые «воспоминания» в качестве входных данных, а затем обновлять и возвращать агентам новые параметры.\n",
        "* `agent_memory` — это модуль общего назначения, который мы определяем, который может хранить некоторую релевантную информацию об опыте агента в среде, которую можно использовать в `agent_learn_func`.\n",
        "\n",
        "Ниже приведена функция цикла обучения, которую мы реализовали для вас. Вы можете просмотреть код и попытаться понять его, но это не обязательно. Таким образом, мы скрыли код по умолчанию, просто убедитесь, что вы запустили ячейку кода, прежде чем двигаться дальше, потому что цикл обучения далее в коде."
      ]
    },
    {
      "cell_type": "code",
      "execution_count": null,
      "metadata": {
        "id": "ZWBwz3zMRjM0"
      },
      "outputs": [],
      "source": [
        "#@title Training loop (run me) { display-mode: \"form\" }\n",
        "\n",
        "# NamedTuple to store transitions\n",
        "Transition = collections.namedtuple(\"Transition\", [\"obs\", \"action\", \"reward\", \"next_obs\", \"done\"])\n",
        "\n",
        "# Training Loop\n",
        "def run_training_loop(env_name, agent_params, agent_select_action_func,\n",
        "    agent_actor_state=None, agent_learn_func=None, agent_learner_state=None,\n",
        "    agent_memory=None, num_episodes=1000, evaluator_period=100,\n",
        "    evaluation_episodes=8, learn_steps_per_episode=1,\n",
        "    train_every_timestep=False, video_subdir=\"\",):\n",
        "    \"\"\"\n",
        "    This function runs several episodes in an environment and periodically does\n",
        "    some agent learning and evaluation.\n",
        "\n",
        "    Args:\n",
        "        env: a gym environment.\n",
        "        agent_params: an object to store parameters that the agent uses.\n",
        "        agent_select_func: a function that does action selection for the agent.\n",
        "        agent_actor_state (optional): an object that stores the internal state\n",
        "            of the agents action selection function.\n",
        "        agent_learn_func (optional): a function that does some learning for the\n",
        "            agent by updating the agent parameters.\n",
        "        agent_learn_state (optional): an object that stores the internal state\n",
        "            of the agent learn function.\n",
        "        agent_memory (optional): an object for storing an retrieving historical\n",
        "            experience.\n",
        "        num_episodes: how many episodes to run.\n",
        "        evaluator_period: how often to run evaluation.\n",
        "        evaluation_episodes: how many evaluation episodes to run.\n",
        "        train_every_timestep: whether to train every timestep rather than at the end\n",
        "            of the episode.\n",
        "        video_subdir: subdirectory to store epsiode recordings.\n",
        "\n",
        "    Returns:\n",
        "        episode_returns: list of all the episode returns.\n",
        "        evaluator_episode_returns: list of all the evaluator episode returns.\n",
        "    \"\"\"\n",
        "\n",
        "    # Setup Cartpole environment and recorder\n",
        "    env = gym.make(env_name, render_mode=\"rgb_array\") # training environment\n",
        "    eval_env = gym.make(env_name, render_mode=\"rgb_array\") # evaluation environment\n",
        "\n",
        "    # Video dir\n",
        "    video_dir = \"./video\"+\"/\"+video_subdir\n",
        "\n",
        "    # Clear video dir\n",
        "    try:\n",
        "      rmtree(video_dir)\n",
        "    except:\n",
        "      pass\n",
        "\n",
        "    # Wrap in recorder\n",
        "    env = RecordVideo(env, video_dir+\"/train\", episode_trigger=lambda x: (x % evaluator_period) == 0)\n",
        "    eval_env = RecordVideo(eval_env, video_dir+\"/eval\", episode_trigger=lambda x: (x % evaluation_episodes) == 0)\n",
        "\n",
        "    # JAX random number generator\n",
        "    rng = hk.PRNGSequence(jax.random.PRNGKey(0))\n",
        "    env.seed(0) # seed environment for reproducability\n",
        "    random.seed(0)\n",
        "\n",
        "    episode_returns = [] # List to store history of episode returns.\n",
        "    evaluator_episode_returns = [] # List to store history of evaluator returns.\n",
        "    timesteps = 0\n",
        "    for episode in range(num_episodes):\n",
        "\n",
        "        # Reset environment.\n",
        "        obs = env.reset()\n",
        "        episode_return = 0\n",
        "        done = False\n",
        "\n",
        "        while not done:\n",
        "\n",
        "            # Agent select action.\n",
        "            action, agent_actor_state = agent_select_action_func(\n",
        "                                            next(rng),\n",
        "                                            agent_params,\n",
        "                                            agent_actor_state,\n",
        "                                            np.array(obs)\n",
        "                                        )\n",
        "\n",
        "            # Step environment.\n",
        "            next_obs, reward, done, _ = env.step(int(action))\n",
        "\n",
        "            # Pack into transition.\n",
        "            transition = Transition(obs, action, reward, next_obs, done)\n",
        "\n",
        "            # Add transition to memory.\n",
        "            if agent_memory: # check if agent has memory\n",
        "              agent_memory.push(transition)\n",
        "\n",
        "            # Add reward to episode return.\n",
        "            episode_return += reward\n",
        "\n",
        "            # Set obs to next obs before next environment step. CRITICAL!!!\n",
        "            obs = next_obs\n",
        "\n",
        "            # Increment timestep counter\n",
        "            timesteps += 1\n",
        "\n",
        "            # Maybe learn every timestep\n",
        "            if train_every_timestep and (timesteps % 4 == 0) and agent_memory and agent_memory.is_ready(): # Make sure memory is ready\n",
        "                # First sample memory and then pass the result to the learn function\n",
        "                memory = agent_memory.sample()\n",
        "                agent_params, agent_learner_state = agent_learn_func(\n",
        "                                                        next(rng),\n",
        "                                                        agent_params,\n",
        "                                                        agent_learner_state,\n",
        "                                                        memory\n",
        "                                                    )\n",
        "\n",
        "        episode_returns.append(episode_return)\n",
        "\n",
        "        # At the end of every episode we do a learn step.\n",
        "        if agent_memory and agent_memory.is_ready(): # Make sure memory is ready\n",
        "\n",
        "            for _ in range(learn_steps_per_episode):\n",
        "                # First sample memory and then pass the result to the learn function\n",
        "                memory = agent_memory.sample()\n",
        "                agent_params, agent_learner_state = agent_learn_func(\n",
        "                                                        next(rng),\n",
        "                                                        agent_params,\n",
        "                                                        agent_learner_state,\n",
        "                                                        memory\n",
        "                                                    )\n",
        "\n",
        "        if (episode % evaluator_period) == 0: # Do evaluation\n",
        "\n",
        "            evaluator_episode_return = 0\n",
        "            for eval_episode in range(evaluation_episodes):\n",
        "                obs = eval_env.reset()\n",
        "                done = False\n",
        "                while not done:\n",
        "                    action, _ = agent_select_action_func(\n",
        "                                    next(rng),\n",
        "                                    agent_params,\n",
        "                                    agent_actor_state,\n",
        "                                    np.array(obs),\n",
        "                                    evaluation=True\n",
        "                                )\n",
        "\n",
        "                    obs, reward, done, _ = eval_env.step(int(action))\n",
        "\n",
        "                    evaluator_episode_return += reward\n",
        "\n",
        "            evaluator_episode_return /= evaluation_episodes\n",
        "\n",
        "            evaluator_episode_returns.append(evaluator_episode_return)\n",
        "\n",
        "            logs = [\n",
        "                    f\"Episode: {episode}\",\n",
        "                    f\"Episode Return: {episode_return}\",\n",
        "                    f\"Average Episode Return: {np.mean(episode_returns[-20:])}\",\n",
        "                    f\"Evaluator Episode Return: {evaluator_episode_return}\"\n",
        "            ]\n",
        "\n",
        "            print(*logs, sep=\"\\t\") # Print the logs\n",
        "\n",
        "    env.close()\n",
        "    eval_env.close()\n",
        "\n",
        "    return episode_returns, evaluator_episode_returns"
      ]
    },
    {
      "cell_type": "markdown",
      "metadata": {
        "id": "CTPlIq4oDBPY"
      },
      "source": [
        "##2. Случайный поиск политики (RPS)\n",
        "В разделе 1 мы использовали фиксированный набор параметров для нашей политики. То есть мы не изучали параметры $\\pi$ $\\theta$, мы просто сохранили их фиксированными ( `params = [1,-2,2,-1]`).\n",
        "\n",
        "Теперь мы реализуем случайный поиск политики (RPS), который представляет собой алгоритм, который случайным образом пробует различные параметры политики и отслеживает лучшие параметры, найденные на данный момент. Мы скажем, что параметры политики $\\theta_A$ лучше параметров $\\theta_B$, если средний возврат эпизода, достигнутый за последние 20 эпизодов политикой с параметрами $\\theta_A$, больше, чем у политики с параметрами $\\theta_B$.\n",
        "\n",
        "Чтобы отслеживать «текущие» параметры, а также «лучшие» параметры, мы будем использовать [NamedTuple](https://www.geeksforgeeks.org/namedtuple-in-python/)."
      ]
    },
    {
      "cell_type": "code",
      "execution_count": null,
      "metadata": {
        "id": "1DcaC-PQRjM1",
        "colab": {
          "base_uri": "https://localhost:8080/"
        },
        "outputId": "7ed7321d-05e8-414f-9412-989d97595495"
      },
      "outputs": [
        {
          "output_type": "stream",
          "name": "stdout",
          "text": [
            "Best params: [0. 0. 0. 0.]\n",
            "Current params: [-1. -1. -1. -1.]\n"
          ]
        }
      ],
      "source": [
        "# Parameter container for Random Policy Search\n",
        "RandomPolicySearchParams = collections.namedtuple(\"RandomPolicySearchParams\", [\"current\", \"best\"])\n",
        "\n",
        "# TEST: store two different sets of parameters\n",
        "current_params = np.ones(obs_shape) * -1\n",
        "best_params = np.zeros(obs_shape)\n",
        "rps_params = RandomPolicySearchParams(current_params, best_params)\n",
        "\n",
        "# How to access the best or current params.\n",
        "print(f\"Best params: {rps_params.best}\")\n",
        "print(f\"Current params: {rps_params.current}\")"
      ]
    },
    {
      "cell_type": "markdown",
      "metadata": {
        "id": "v91pDDzGex9a"
      },
      "source": [
        "Далее мы реализуем следующее:\n",
        "- **Функция выбора действия RPS** - определяет, как мы выбираем действия с учетом набора параметров.\n",
        "- **Модуль памяти RPS** - определяет, какой опыт хранить из взаимодействий со средой.\n",
        "- **Функция обучения RPS** - определяет, как мы обновляем и улучшаем параметры нашей политики."
      ]
    },
    {
      "cell_type": "markdown",
      "metadata": {
        "id": "0tExceGeGNYH"
      },
      "source": [
        "### Функция выбора действия RPS\n",
        "Давайте реализуем функцию с именем `random_policy_search_choose_action`, которую мы можем передать в цикл обучения. Функция должна принимать несколько аргументов, чтобы она могла хорошо взаимодействовать с нашим обобщенным циклом обучения, но вам нужно будет использовать только три из них - `params`, `obs` и `evaluation`.\n",
        "\n",
        "- `params` - это экземпляр `RandomPolicySearchParams` с \"current\" и \"best\".\n",
        "- `obs` - это последнее наблюдение из среды.\n",
        "- `evaluation` - это логическое значение, которое указывает, следует ли нам использовать параметры \"current\" или \"best\". Когда `evaluation==True`, мы должны использовать параметры \"best\", в противном случае мы должны использовать параметры \"current\".\n",
        "\n",
        "**Упражнение 3:** Реализуйте функцию `random_policy_search_choose_action`, как описано выше. Вам следует использовать метод `linear_policy`, который мы определили ранее. Вам также понадобится `jax.lax.select()` для условного возврата \"лучшего\" действия или \"текущего\" действия."
      ]
    },
    {
      "cell_type": "code",
      "execution_count": null,
      "metadata": {
        "id": "1kmwT35JRjM1"
      },
      "outputs": [],
      "source": [
        "def random_policy_search_choose_action(\n",
        "    key,\n",
        "    params,\n",
        "    actor_state,\n",
        "    obs,\n",
        "    evaluation=False\n",
        "):\n",
        "  \"\"\"Random policy search select action method.\n",
        "\n",
        "  Args:\n",
        "    key: a random number (seed). Not used in this function.\n",
        "    params: the agent's parameters. In this case an instance of `RandomPolicySearchParams`\n",
        "    actor_state: some extra information about the actor. Not used in this function.\n",
        "    obs: the latest observation.\n",
        "    evaluation: a boolean indicating whether to use the best \"parameters\" or the \"current\" ones.\n",
        "\n",
        "  Returns:\n",
        "    The chosen action and the updated actor_state. In this function the actor_state is not updated.\n",
        "  \"\"\"\n",
        "\n",
        "  # YOUR CODE\n",
        "\n",
        "  best_action = linear_policy(params.best, obs)\n",
        "\n",
        "  current_action = linear_policy(params.current, obs)\n",
        "\n",
        "  action = jax.lax.select(\n",
        "      evaluation,\n",
        "      best_action,\n",
        "      current_action\n",
        "  )\n",
        "\n",
        "  # END YOUR CODE\n",
        "\n",
        "  return action, actor_state"
      ]
    },
    {
      "cell_type": "code",
      "execution_count": null,
      "metadata": {
        "id": "YE4xoAgyI3kG",
        "colab": {
          "base_uri": "https://localhost:8080/"
        },
        "outputId": "7e11437d-8671-415f-b024-b9e270f8d23e"
      },
      "outputs": [
        {
          "output_type": "stream",
          "name": "stdout",
          "text": [
            "Your function looks correct.\n"
          ]
        }
      ],
      "source": [
        "# @title Проверка упр 3 (run me) {display-mode: \"form\"}\n",
        "\n",
        "def check_random_policy_search_choose_action(choose_action):\n",
        "  key = None # not used\n",
        "  actor_state = None # not used\n",
        "\n",
        "  # obs\n",
        "  obs = np.ones(obs_shape)\n",
        "\n",
        "  evaluation=False\n",
        "  current_params = np.ones(obs_shape) * -1\n",
        "  best_params = np.ones(obs_shape)\n",
        "  rps_params = RandomPolicySearchParams(current_params, best_params)\n",
        "  action, actor_state = choose_action(key,rps_params,actor_state,obs,evaluation)\n",
        "  if action != 0:\n",
        "    return False\n",
        "\n",
        "  evaluation=True\n",
        "  current_params = np.ones(obs_shape) * -1\n",
        "  best_params = np.ones(obs_shape)\n",
        "  rps_params = RandomPolicySearchParams(current_params, best_params)\n",
        "  action, actor_state = choose_action(key,rps_params,actor_state,obs,evaluation)\n",
        "  if action != 1:\n",
        "    return False\n",
        "\n",
        "  return True\n",
        "\n",
        "try:\n",
        "  if check_random_policy_search_choose_action(random_policy_search_choose_action):\n",
        "    print(\"Your function looks correct.\")\n",
        "  else:\n",
        "    print(\"Your function looks incorrect.\")\n",
        "except Exception as e:\n",
        "    print(\"An Error Occured: {}\".format(e))"
      ]
    },
    {
      "cell_type": "markdown",
      "metadata": {
        "id": "6zu51ep7Sh0M"
      },
      "source": [
        "### Память агента RPS\n",
        "\n",
        "Для алгоритма поиска случайной политики нам нужно будет отслеживать средний возврат эпизода для последних 50 эпизодов. Помните, что мы сказали, что «текущие» параметры будут считаться «лучшими» параметрами, если средний возврат эпизода при использовании этих параметров больше предыдущего лучшего среднего возврата эпизода.\n",
        "\n",
        "Мы будем использовать интерфейс памяти общего назначения, который довольно прост. Модуль памяти должен иметь три метода. Первый — это функция `memory.push(<transition>)`, которая добавляет некоторую информацию о последнем переходе среды в память. Второй — это функция `memory.is_ready()`, которая проверяет, готова ли память к обучению. Наконец, функция `memory.sample()` должна возвращать последний набор воспоминаний, которые можно передать в `agent_learn_func`.\n",
        "\n",
        "#### Память среднего возврата эпизода\n",
        "Мы создали для вас простой модуль памяти агента. Он хранит `epsisode_returns` последних 20 эпизодов. Прочитайте нашу реализацию ниже и посмотрите, сможете ли вы ее понять. Метод `memory.sample()` возвращает средний возврат эпизода за последние 20 эпизодов."
      ]
    },
    {
      "cell_type": "code",
      "execution_count": null,
      "metadata": {
        "id": "YVkTBIK5RjM1"
      },
      "outputs": [],
      "source": [
        "class AverageEpisodeReturnBuffer:\n",
        "\n",
        "    def __init__(self, num_episodes_to_store=50):\n",
        "        \"\"\"\n",
        "        This class implements an agent memory that stores the average episode\n",
        "        return over the last 50 episodes.\n",
        "        \"\"\"\n",
        "        self.num_episodes_to_store = num_episodes_to_store\n",
        "        self.episode_return_buffer = []\n",
        "        self.current_episode_return = 0\n",
        "\n",
        "    def push(self, transition):\n",
        "        self.current_episode_return += transition.reward\n",
        "\n",
        "        if transition.done: # If the episode is done\n",
        "            # Add episode return to buffer\n",
        "            self.episode_return_buffer.append(self.current_episode_return)\n",
        "\n",
        "            # Reset episode return\n",
        "            self.current_episode_return = 0\n",
        "\n",
        "\n",
        "    def is_ready(self):\n",
        "        return len(self.episode_return_buffer) == self.num_episodes_to_store\n",
        "\n",
        "    def sample(self):\n",
        "        average_episode_return = np.mean(self.episode_return_buffer)\n",
        "\n",
        "        # Clear episode return buffer\n",
        "        self.episode_return_buffer = []\n",
        "\n",
        "        return average_episode_return"
      ]
    },
    {
      "cell_type": "markdown",
      "metadata": {
        "id": "0oXBsSa2KjWE"
      },
      "source": [
        "### Функция обучения RPS\n",
        "Наконец, нам нужно реализовать функцию `random_policy_search_learn` для нашего алгоритма поиска случайной политики. Функция обучения довольно проста. Все, что нам нужно сделать, это проверить, лучше ли текущие параметры, чем лучшие параметры. Если они лучше, то установите лучшие параметры в качестве текущих параметров и случайным образом сгенерируйте новый набор текущих параметров.\n",
        "\n",
        "**Упражнение 4:** Напишите функцию для случайной генерации новых весов с использованием JAX. Веса должны быть выбраны из интервала `[-2,2]`.\n",
        "\n",
        "**Полезные функции:**\n",
        "*   `jax.random.uniform` ([docs](https://jax.readthedocs.io/en/latest/_autosummary/jax.random.uniform.html#jax.random.uniform))\n",
        "\n"
      ]
    },
    {
      "cell_type": "code",
      "execution_count": null,
      "metadata": {
        "id": "8V2yFM2XMjGW"
      },
      "outputs": [],
      "source": [
        "def get_new_random_weights(random_key, old_weights, minval=-2.0, maxval=2.0):\n",
        "    new_weights_shape = old_weights.shape # you will need to use these values\n",
        "    new_weights_dtype = old_weights.dtype # you will need to use these values\n",
        "\n",
        "    # YOUR CODE\n",
        "\n",
        "    new_params = jax.random.uniform(random_key, new_weights_shape, minval=minval, maxval=maxval).astype(new_weights_dtype)\n",
        "\n",
        "    # END YOUR CODE\n",
        "\n",
        "    return new_params"
      ]
    },
    {
      "cell_type": "code",
      "execution_count": null,
      "metadata": {
        "id": "T8ifHTKGQlAd",
        "colab": {
          "base_uri": "https://localhost:8080/"
        },
        "outputId": "178fa3ea-3f39-4d8e-ba98-a40b2796c4dd"
      },
      "outputs": [
        {
          "output_type": "stream",
          "name": "stdout",
          "text": [
            "Function is correct!\n"
          ]
        }
      ],
      "source": [
        "# @title Проверка упр 4 (run me) {display-mode: \"form\"}\n",
        "\n",
        "def check_get_new_random_weights(get_new_random_weights):\n",
        "  old_weights = np.ones(obs_shape, \"float32\")\n",
        "  random_key = jax.random.PRNGKey(42)\n",
        "\n",
        "  # Case 1\n",
        "  new_weights = get_new_random_weights(random_key, old_weights, minval=-2.0, maxval=2.0)\n",
        "\n",
        "  if jnp.array_equal(new_weights, jnp.array([ 0.29657745,1.4265499, -1.7621555, -1.7505779 ])):\n",
        "    print(\"Function is correct!\")\n",
        "  else:\n",
        "    print(\"Something is wrong.\")\n",
        "\n",
        "try:\n",
        "  check_get_new_random_weights(get_new_random_weights)\n",
        "except Exception as e:\n",
        "    print(\"An Error Occured: {}\".format(e))"
      ]
    },
    {
      "cell_type": "markdown",
      "metadata": {
        "id": "2Djxc9j-LzkM"
      },
      "source": [
        "Наша функция обучения получает память в форме среднего возврата эпизода из `AverageEpisodeReturnMemory`, которую мы реализовали ранее. Мы можем использовать это для сравнения текущих параметров с лучшими параметрами. Но нам также нужно будет отслеживать лучший средний возврат эпизода для функции обучения. Для этого мы можем использовать аргумент `learn_state`, который передается в `agent_learn_func` в нашем цикле обучения. Как и в случае с `RandomPolicySearchParams`, мы будем использовать NamedTuple для хранения `best_average_episode_return` в `learn_state`."
      ]
    },
    {
      "cell_type": "code",
      "execution_count": null,
      "metadata": {
        "id": "4cSH4uYmRjM2",
        "colab": {
          "base_uri": "https://localhost:8080/"
        },
        "outputId": "6973dea5-16ee-45fd-e73c-e0effab1009d"
      },
      "outputs": [
        {
          "output_type": "stream",
          "name": "stdout",
          "text": [
            "Initial best average episode return: -inf\n"
          ]
        }
      ],
      "source": [
        "# A NamedTuple to store the best average episode return so far\n",
        "RandomPolicyLearnState = collections.namedtuple(\n",
        "  \"RandomPolicyLearnState\",\n",
        "  [\"best_average_episode_return\"]\n",
        ")\n",
        "\n",
        "# Test\n",
        "initial_learn_state = RandomPolicyLearnState(best_average_episode_return=-float(\"inf\"))\n",
        "print(\"Initial best average episode return:\", initial_learn_state.best_average_episode_return)"
      ]
    },
    {
      "cell_type": "markdown",
      "metadata": {
        "id": "PxZXdP8bOu6b"
      },
      "source": [
        "Теперь у нас есть все необходимое для реализации функции `random_policy_search_learn`.\n",
        "\n",
        "**Упражнение 5:** Реализуйте функцию `random_policy_search_learn`. Функция должна проверять, лучше ли «текущие» параметры, чем «лучшие» параметры, сравнивая `current_average_episode_return` с `best_average_episode_return`. Функция также должна обновлять `learn_state`."
      ]
    },
    {
      "cell_type": "code",
      "execution_count": null,
      "metadata": {
        "id": "Te_Q3qzmZcN_"
      },
      "outputs": [],
      "source": [
        "def random_policy_search_learn(key, params, learn_state, memory):\n",
        "    best_params = params.best\n",
        "    current_params = params.current\n",
        "\n",
        "    current_average_episode_return = memory # the memory contains the average episode return\n",
        "    best_average_episode_return = learn_state.best_average_episode_return\n",
        "\n",
        "\n",
        "    # YOUR CODE\n",
        "\n",
        "    best_params = jax.lax.select(\n",
        "        current_average_episode_return > best_average_episode_return,\n",
        "        current_params,\n",
        "        best_params\n",
        "    )\n",
        "\n",
        "    best_average_episode_return = jax.lax.select(\n",
        "        current_average_episode_return > best_average_episode_return,\n",
        "        current_average_episode_return,\n",
        "        best_average_episode_return\n",
        "    )\n",
        "\n",
        "    # END YOUR CODE\n",
        "\n",
        "    # Generate new random parameters\n",
        "    new_params = get_new_random_weights(key, current_params)\n",
        "\n",
        "    # Bundle weights in RandomPolicySearchParams NamedTuple\n",
        "    params = RandomPolicySearchParams(current=new_params, best=best_params)\n",
        "\n",
        "    return params, RandomPolicyLearnState(best_average_episode_return)"
      ]
    },
    {
      "cell_type": "code",
      "execution_count": null,
      "metadata": {
        "id": "CXHV4k2iBLBF",
        "colab": {
          "base_uri": "https://localhost:8080/"
        },
        "outputId": "a8f318ad-9f24-46ce-b32d-16b448435a05"
      },
      "outputs": [
        {
          "output_type": "stream",
          "name": "stdout",
          "text": [
            "Your function looks correct.\n"
          ]
        }
      ],
      "source": [
        "#@title Проверка упр 5 {display-mode: \"form\"}\n",
        "\n",
        "params = RandomPolicySearchParams(np.ones(obs_shape, \"float32\"), np.ones(obs_shape, \"float32\") * -1)\n",
        "learn_state = RandomPolicyLearnState(10)\n",
        "memory = 11\n",
        "key = jax.random.PRNGKey(42)\n",
        "\n",
        "try:\n",
        "  new_params, new_learn_state = random_policy_search_learn(key, params, learn_state, memory)\n",
        "\n",
        "  if not jnp.array_equal(new_params.current, jnp.array([ 0.29657745,  1.4265499 , -1.7621555 , -1.7505779 ])):\n",
        "    print(\"Your function is incorrect.\")\n",
        "\n",
        "  elif not jnp.array_equal(new_params.best, jnp.array([1., 1., 1., 1.])):\n",
        "    print(\"Your function is incorrect.\")\n",
        "\n",
        "  elif new_learn_state.best_average_episode_return != 11:\n",
        "    print(\"Your function is incorrect.\")\n",
        "\n",
        "  else:\n",
        "    print(\"Your function looks correct.\")\n",
        "except Exception as e:\n",
        "    print(\"An Error Occured: {}\".format(e))"
      ]
    },
    {
      "cell_type": "markdown",
      "metadata": {
        "id": "5Ol_AxnMBdgP"
      },
      "source": [
        "### Цикл обучения RPS\n",
        "Теперь мы можем собрать все вместе, передав модуль `memory`, функцию `learn` и функцию `choose_action` в цикл обучения. Чтобы ускорить наш алгоритм, мы будем использовать `jax.jit` в функции `learn` и функции `choose_action`."
      ]
    },
    {
      "cell_type": "code",
      "execution_count": null,
      "metadata": {
        "id": "Qx57tf7vRjM3",
        "colab": {
          "base_uri": "https://localhost:8080/",
          "height": 680
        },
        "outputId": "c84ed2fe-5e7c-4268-c3b7-191d3a4f590b"
      },
      "outputs": [
        {
          "output_type": "stream",
          "name": "stdout",
          "text": [
            "Starting training. This may take up to 5 minutes to complete.\n",
            "Episode: 0\tEpisode Return: 80.0\tAverage Episode Return: 80.0\tEvaluator Episode Return: 145.75\n",
            "Episode: 100\tEpisode Return: 51.0\tAverage Episode Return: 50.65\tEvaluator Episode Return: 152.25\n",
            "Episode: 200\tEpisode Return: 18.0\tAverage Episode Return: 9.6\tEvaluator Episode Return: 133.625\n",
            "Episode: 300\tEpisode Return: 200.0\tAverage Episode Return: 67.55\tEvaluator Episode Return: 140.125\n",
            "Episode: 400\tEpisode Return: 9.0\tAverage Episode Return: 9.35\tEvaluator Episode Return: 200.0\n",
            "Episode: 500\tEpisode Return: 62.0\tAverage Episode Return: 87.2\tEvaluator Episode Return: 200.0\n",
            "Episode: 600\tEpisode Return: 178.0\tAverage Episode Return: 37.45\tEvaluator Episode Return: 200.0\n",
            "Episode: 700\tEpisode Return: 131.0\tAverage Episode Return: 15.7\tEvaluator Episode Return: 200.0\n",
            "Episode: 800\tEpisode Return: 15.0\tAverage Episode Return: 67.35\tEvaluator Episode Return: 200.0\n",
            "Episode: 900\tEpisode Return: 10.0\tAverage Episode Return: 71.1\tEvaluator Episode Return: 200.0\n",
            "Episode: 1000\tEpisode Return: 182.0\tAverage Episode Return: 18.4\tEvaluator Episode Return: 200.0\n"
          ]
        },
        {
          "output_type": "display_data",
          "data": {
            "text/plain": [
              "<Figure size 640x480 with 1 Axes>"
            ],
            "image/png": "[encoded data removed]"
          },
          "metadata": {}
        }
      ],
      "source": [
        "# JIT the learn and choose action functions\n",
        "random_policy_search_learn_jit = jax.jit(random_policy_search_learn)\n",
        "random_policy_search_choose_action_jit = jax.jit(random_policy_search_choose_action)\n",
        "\n",
        "# Initialise the parameters\n",
        "initial_weights = np.ones(obs_shape, \"float32\")\n",
        "initial_params = RandomPolicySearchParams(initial_weights, initial_weights)\n",
        "\n",
        "# Initialise the learn state\n",
        "initial_learn_state = RandomPolicyLearnState(best_average_episode_return=-float(\"inf\"))\n",
        "\n",
        "# Initialise memory\n",
        "memory = AverageEpisodeReturnBuffer(num_episodes_to_store=50)\n",
        "\n",
        "# Run the training loop\n",
        "print(\"Starting training. This may take up to 5 minutes to complete.\")\n",
        "chex.clear_trace_counter()\n",
        "episode_return, evaluator_episode_returns = run_training_loop(\n",
        "                                        env_name,\n",
        "                                        initial_params,\n",
        "                                        random_policy_search_choose_action_jit,\n",
        "                                        None, # no actor state\n",
        "                                        random_policy_search_learn_jit,\n",
        "                                        initial_learn_state,\n",
        "                                        memory,\n",
        "                                        num_episodes=1001,\n",
        "                                        video_subdir=\"rps\"\n",
        "                                    )\n",
        "\n",
        "# Plot graph of evaluator episode returns\n",
        "plt.plot(np.linspace(0, 1000, len(evaluator_episode_returns)), evaluator_episode_returns)\n",
        "plt.title(\"Random Policy Search\")\n",
        "plt.xlabel(\"Episodes\")\n",
        "plt.ylabel(\"Episode Return\")\n",
        "plt.show()"
      ]
    },
    {
      "cell_type": "markdown",
      "metadata": {
        "id": "TG10FG6uS05A"
      },
      "source": [
        "Надеюсь, вы нашли набор оптимальных параметров на CartPole (возврат эпизода достигает `200`). В ячейке ниже вы можете посмотреть несколько видеороликов агента, выполняющего задание."
      ]
    },
    {
      "cell_type": "code",
      "execution_count": null,
      "metadata": {
        "id": "KgayDJ7KWC4C",
        "colab": {
          "base_uri": "https://localhost:8080/",
          "height": 288
        },
        "outputId": "e451fa9c-d0ec-4ea2-d8e3-82bf5a638efd"
      },
      "outputs": [
        {
          "output_type": "execute_result",
          "data": {
            "text/plain": [
              "<IPython.core.display.HTML object>"
            ],
            "text/html": [
              "\n",
              "<video width=400 controls>\n",
              "      <source src=\"data:video/mp4;base64,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\" type=\"video/mp4\">\n",
              "</video>\n"
            ]
          },
          "metadata": {},
          "execution_count": 45
        }
      ],
      "source": [
        "#@title Visualise Policy {display-mode: \"form\"}\n",
        "#@markdown Choose an episode number that is a multiple of 100 and less than or equal to 2000, and **run** this cell.\n",
        "episode_number = 1000 #@param {type:\"number\"}\n",
        "\n",
        "assert (episode_number % 100) == 0, \"Episode number must be a multiple of 100 since we only record every 100th episode.\"\n",
        "assert episode_number < 1001, \"Episode number must be less than or equal to 2000\"\n",
        "\n",
        "eval_episode_number = int(episode_number / 100 * 8)\n",
        "video_path = f\"./video/rps/eval/rl-video-episode-{eval_episode_number}.mp4\"\n",
        "\n",
        "mp4 = open(video_path,'rb').read()\n",
        "data_url = \"data:video/mp4;base64,\" + b64encode(mp4).decode()\n",
        "HTML(\"\"\"\n",
        "<video width=400 controls>\n",
        "      <source src=\"%s\" type=\"video/mp4\">\n",
        "</video>\n",
        "\"\"\" % data_url)"
      ]
    },
    {
      "cell_type": "markdown",
      "metadata": {
        "id": "Xwf1IKKbrrVn"
      },
      "source": [
        "Итак, случайный поиск политики справился с этой задачей довольно хорошо. Однако здесь происходит очень мало (если вообще происходит) реального *обучения*. Далее давайте рассмотрим реализацию простого алгоритма RL, который может использовать свой опыт для руководства нашим поиском оптимальной политики, а не просто искать ее случайным образом."
      ]
    },
    {
      "cell_type": "markdown",
      "metadata": {
        "id": "XEnSjZVESrxc"
      },
      "source": [
        "## 3. Градиенты политики  (Policy Gradients, PG)\n",
        "Как обсуждалось, цель RL — найти политику, которая максимизирует ожидаемое совокупное вознаграждение (возврат), которое агент получает от среды. Мы можем записать ожидаемый возврат политики как:\n",
        "\n",
        "$J(\\pi_\\theta)=\\mathrm{E}_{\\tau\\sim\\pi_\\theta}\\ [R(\\tau)]$,\n",
        "\n",
        "где $\\pi_\\theta$ — это политика, параметризованная $\\theta$, $\\mathrm{E}$ означает *ожидание*, $\\tau$ — это сокращение для \"*эпизод*\", $\\tau\\sim\\pi_\\theta$ — это сокращение для \"*эпизоды, выбранные с использованием политики* $\\pi_\\theta$\", а $R(\\tau)$ — это возврат эпизода $\\tau$.\n",
        "\n",
        "Затем, цель в RL — найти параметры $\\theta$, которые максимизируют функцию $J(\\pi_\\theta)$. Один из способов найти эти параметры — выполнить градиентный подъем по $J(\\pi_\\theta)$ относительно параметров $\\theta$:\n",
        "\n",
        "$\\theta_{k+1}=\\theta_k + \\alpha \\nabla J(\\pi_\\theta)|_{\\theta_{k}}$,\n",
        "\n",
        "где $\\nabla J(\\pi_\\theta)|_{\\theta_{k}}$ — градиент ожидаемой доходности относительно параметров политики $\\theta_k$, а $\\alpha$ — размер шага. Эта величина, $\\nabla J(\\pi_\\theta)$, также называется **градиентом политики** и очень важна в RL. Если мы сможем вычислить градиент политики, то у нас будет средство, с помощью которого можно напрямую оптимизировать нашу политику.\n",
        "\n",
        "Как оказалось, у нас есть способ вычислить градиент политики, и математический вывод можно найти [здесь](https://spinningup.openai.com/en/latest/spinningup/rl_intro3.html). Но для этого руководства мы опустим вывод и просто дадим вам результат:\n",
        "\n",
        "$\\nabla_{\\theta} J(\\pi_{\\theta})=\\underset{\\tau \\sim \\pi_{\\theta}}{\\mathrm{E}}[\\sum_{t=0}^{T} \\nabla_{\\theta} \\log \\pi_{\\theta}(a_{t} \\mid s_{t}) R(\\tau)]$\n",
        "\n",
        "Неформально, градиент политики равен градиенту логарифма вероятности выбранного действия, умноженного на возврат эпизода, в котором было предпринято действие.\n"
      ]
    },
    {
      "cell_type": "markdown",
      "metadata": {
        "id": "BTnTzgtSuy-y"
      },
      "source": [
        "### REINFORCE\n",
        "REINFORCE — это простой алгоритм RL, который использует градиент политики для поиска оптимальной политики путем увеличения вероятности выбора действий (усиливающих действий), которые, как правило, приводят к эпизодам с высокой отдачей.\n",
        "\n",
        "**Упражнение 6:** Реализуйте функцию, которая берет вероятность действия и отдачу эпизода, в котором действие было предпринято, и вычисляет логарифм вероятности, умноженный на отдачу. Убедитесь, что вы используете JAX.\n",
        "\n",
        "**Полезные функции:**\n",
        "*   `jax.numpy.log`([docs](https://jax.readthedocs.io/en/latest/_autosummary/jax.numpy.log.html))"
      ]
    },
    {
      "cell_type": "code",
      "execution_count": null,
      "metadata": {
        "id": "bJObUsoUrOyV"
      },
      "outputs": [],
      "source": [
        "import jax.numpy as jnp\n",
        "\n",
        "def compute_weighted_log_prob(action_prob, episode_return):\n",
        "\n",
        "    # YOUR CODE\n",
        "\n",
        "    log_prob = jnp.log(action_prob)\n",
        "\n",
        "    weighted_log_prob = log_prob * episode_return\n",
        "\n",
        "    # END YOUR CODE\n",
        "\n",
        "    return weighted_log_prob"
      ]
    },
    {
      "cell_type": "code",
      "execution_count": null,
      "metadata": {
        "id": "eZPoTwa1Gbm1",
        "colab": {
          "base_uri": "https://localhost:8080/"
        },
        "outputId": "9f2077c0-bd6d-45b5-a3bc-a7b0822f8d82"
      },
      "outputs": [
        {
          "output_type": "stream",
          "name": "stdout",
          "text": [
            "Looks correct.\n"
          ]
        }
      ],
      "source": [
        "#@title Проверка упр 6 {display-mode: \"form\"}\n",
        "\n",
        "try:\n",
        "  action_prob = 0.8\n",
        "  episode_return = 100\n",
        "  result = compute_weighted_log_prob(action_prob, episode_return)\n",
        "  if result != -22.314354:\n",
        "    print(\"Your implementation looks incorrect.\")\n",
        "  else:\n",
        "    print(\"Looks correct.\")\n",
        "except Exception as e:\n",
        "    print(\"An Error Occured: {}\".format(e))"
      ]
    },
    {
      "cell_type": "markdown",
      "metadata": {
        "id": "NmgW9UJ3tIpl"
      },
      "source": [
        "### Rewards-to-go\n",
        "Выполнение градиентного подъема по градиенту логарифма вероятности действия, взвешенного по возврату эпизода, будет иметь тенденцию повышать вероятность действий, которые были в эпизодах с высоким возвратом, независимо от того, *где* в эпизоде ​​было выполнено действие. Это на самом деле не имеет большого смысла, потому что действие ближе к концу эпизода может быть подкреплено, потому что много вознаграждения было собрано ранее в эпизоде, *до* того, как было выполнено действие. Агенты RL должны на самом деле подкреплять действия только на основе их *последствий*. Вознаграждения, полученные до выполнения действия, не влияют на то, насколько хорошим было это действие: только вознаграждения, которые приходят после. Накопленные вознаграждения, полученные после выполнения действия, называются **вознаграждениями-к-переходу** и могут быть вычислены как:\n",
        "\n",
        "$\\hat{R}_i=\\sum_{t=i}^Tr_t$\n",
        "\n",
        "Сравните это с доходностью эпизода:\n",
        "\n",
        "$R(\\tau)=\\sum_{t=0}^Tr_t$\n",
        "\n",
        "Мы можем повысить надежность градиента политики, заменив доходность эпизода на вознаграждения-к-переходу. Градиент политики с оставшимися наградами задается следующим образом:\n",
        "\n",
        "$\\nabla_{\\theta} J(\\pi_{\\theta})=\\underset{\\tau \\sim \\pi_{\\theta}}{\\mathrm{E}}[\\sum_{t=0}^{T} \\nabla_{\\theta} \\log \\pi_{\\theta}(a_{t} \\mid s_{t}) \\hat{R}_t]$\n",
        "\n",
        "**Упражнение 7:** Реализуйте функцию, которая берет список всех наград, полученных в эпизоде, и вычисляет оставшиеся награды. Не беспокойтесь об использовании JAX в этой функции. Вы можете использовать обычные операции Python, такие как `for-loops`."
      ]
    },
    {
      "cell_type": "code",
      "execution_count": null,
      "metadata": {
        "id": "nV1Hww8E3dUJ"
      },
      "outputs": [],
      "source": [
        "def compute_rewards_to_go(rewards):\n",
        "    \"\"\"\n",
        "    This function should take a list of rewards as input and\n",
        "    compute the rewards-to-go for each timestep.\n",
        "\n",
        "    EXAMPLE: compute_rewards_to_go([1,2,3,4]) = [10, 9, 7, 4]\n",
        "\n",
        "    Arguments:\n",
        "        rewards[t] is the reward at time step t.\n",
        "\n",
        "    Returns:\n",
        "        rewards_to_go[t] should be the reward-to-go at timestep t.\n",
        "    \"\"\"\n",
        "\n",
        "    rewards_to_go = []\n",
        "\n",
        "    # YOUR CODE\n",
        "    total_reward = 0\n",
        "    for reward in reversed(rewards):\n",
        "      total_reward += reward\n",
        "      rewards_to_go.insert(0, total_reward)\n",
        "\n",
        "    # END YOUR CODE\n",
        "\n",
        "    return rewards_to_go"
      ]
    },
    {
      "cell_type": "code",
      "execution_count": null,
      "metadata": {
        "id": "hLVaVRp28YGI",
        "colab": {
          "base_uri": "https://localhost:8080/"
        },
        "outputId": "c62d5ddf-9db9-481c-c9f5-33707f82377c"
      },
      "outputs": [
        {
          "output_type": "stream",
          "name": "stdout",
          "text": [
            "Looks correct.\n"
          ]
        }
      ],
      "source": [
        "#@title Проверка упр 7 {display-mode: \"form\"}\n",
        "\n",
        "try:\n",
        "  result = compute_rewards_to_go([1,2,3,4])\n",
        "\n",
        "  if result != [10, 9, 7, 4]:\n",
        "    print(\"There is a problem with your implementation.\")\n",
        "  else:\n",
        "    print(\"Looks correct.\")\n",
        "except Exception as e:\n",
        "    print(\"An Error Occured: {}\".format(e))\n"
      ]
    },
    {
      "cell_type": "markdown",
      "metadata": {
        "id": "IboxN9MS65i5"
      },
      "source": [
        "### REINFORCE memory\n",
        "Далее нам нужно будет создать новую память агента для хранения вознаграждений $\\hat{R}_t$ вместе с наблюдением $o_t$ и действием $a_t$ на каждом временном шаге. Ниже мы реализовали такой модуль памяти для вас. Функция `memory.sample()` вернет пакет из последних 500 воспоминаний. Вы можете прочитать код, чтобы попытаться понять его, но это не обязательно. Поэтому мы скрываем код по умолчанию."
      ]
    },
    {
      "cell_type": "code",
      "execution_count": null,
      "metadata": {
        "id": "xhS4V6auRjM3"
      },
      "outputs": [],
      "source": [
        "# @title Реализация памяти (run me) {display-mode: \"form\"}\n",
        "\n",
        "# NamedTuple to store memory\n",
        "EpisodeRewardsToGoMemory = collections.namedtuple(\"EpisodeRewardsToGoMemory\", [\"obs\", \"action\", \"reward_to_go\"])\n",
        "\n",
        "class EpisodeRewardsToGoBuffer:\n",
        "\n",
        "    def __init__(self, num_transitions_to_store=512, batch_size=256):\n",
        "        self.batch_size = batch_size\n",
        "        self.memory_buffer = collections.deque(maxlen=num_transitions_to_store)\n",
        "        self.current_episode_transition_buffer = []\n",
        "\n",
        "    def push(self, transition):\n",
        "        self.current_episode_transition_buffer.append(transition)\n",
        "\n",
        "        if transition.done:\n",
        "\n",
        "            episode_rewards = []\n",
        "            for t in self.current_episode_transition_buffer:\n",
        "                episode_rewards.append(t.reward)\n",
        "\n",
        "            r2g = compute_rewards_to_go(episode_rewards)\n",
        "\n",
        "            for i, t in enumerate(self.current_episode_transition_buffer):\n",
        "                memory = EpisodeRewardsToGoMemory(t.obs, t.action, r2g[i])\n",
        "                self.memory_buffer.append(memory)\n",
        "\n",
        "            # Reset episode buffer\n",
        "            self.current_episode_transition_buffer = []\n",
        "\n",
        "\n",
        "    def is_ready(self):\n",
        "        return len(self.memory_buffer) >= self.batch_size\n",
        "\n",
        "    def sample(self):\n",
        "        random_memory_sample = random.sample(self.memory_buffer, self.batch_size)\n",
        "\n",
        "        obs_batch, action_batch, reward_to_go_batch = zip(*random_memory_sample)\n",
        "\n",
        "        return EpisodeRewardsToGoMemory(\n",
        "            np.stack(obs_batch).astype(\"float32\"),\n",
        "            np.asarray(action_batch).astype(\"int32\"),\n",
        "            np.asarray(reward_to_go_batch).astype(\"int32\")\n",
        "        )\n",
        "\n",
        "\n",
        "# Instantiate Memory\n",
        "REINFORCE_memory = EpisodeRewardsToGoBuffer(num_transitions_to_store=512, batch_size=256)"
      ]
    },
    {
      "cell_type": "markdown",
      "metadata": {
        "id": "Idkav_aSYXvz"
      },
      "source": [
        "### Policy neural network\n",
        "Далее мы будем использовать простую нейронную сеть для аппроксимации политики. Наша нейронная сеть политики будет иметь входной слой, который принимает наблюдение в качестве входных данных и пропускает его через два скрытых слоя, а затем выводит одно скалярное значение для каждого из возможных действий. Таким образом, в CartPole выходной слой будет иметь размер `2`.\n",
        "\n",
        "[Haiku](https://github.com/deepmind/dm-haiku) — это библиотека для реализации нейронных сетей в JAX. Ниже мы реализовали простую функцию для создания сети политики для вас.\n"
      ]
    },
    {
      "cell_type": "code",
      "execution_count": null,
      "metadata": {
        "id": "j2XO7VkORjM4"
      },
      "outputs": [],
      "source": [
        "def make_policy_network(num_actions: int, layers=[20, 20]) -> hk.Transformed:\n",
        "  \"\"\"Factory for a simple MLP network for the policy.\"\"\"\n",
        "\n",
        "  def policy_network(obs):\n",
        "    network = hk.Sequential(\n",
        "        [\n",
        "            hk.Flatten(),\n",
        "            hk.nets.MLP(layers + [num_actions])\n",
        "        ]\n",
        "    )\n",
        "    return network(obs)\n",
        "\n",
        "  return hk.without_apply_rng(hk.transform(policy_network))"
      ]
    },
    {
      "cell_type": "markdown",
      "metadata": {
        "id": "1GR2y8FjaG-G"
      },
      "source": [
        "У сетей Haiku есть две важные функции, о которых вам нужно знать. Первая — `network.init(<random_key>, <input>)`, которая возвращает набор случайных начальных параметров. Второй метод — `network.apply(<params>, <input>)`, который передает входные данные через сеть, используя предоставленный набор параметров."
      ]
    },
    {
      "cell_type": "code",
      "execution_count": null,
      "metadata": {
        "id": "fJrn9o-Vatkw",
        "colab": {
          "base_uri": "https://localhost:8080/"
        },
        "outputId": "7aaba21c-6a05-47c4-a4e8-86788cf527ab"
      },
      "outputs": [
        {
          "output_type": "stream",
          "name": "stdout",
          "text": [
            "Initial params: dict_keys(['mlp/~/linear_0', 'mlp/~/linear_1', 'mlp/~/linear_2'])\n",
            "Policy network output: [ 0.91155875 -0.3961737 ]\n"
          ]
        }
      ],
      "source": [
        "# Example\n",
        "POLICY_NETWORK = make_policy_network(num_actions=num_actions, layers=[20,20])\n",
        "random_key = jax.random.PRNGKey(42) # random key\n",
        "dummy_obs = np.ones(obs_shape, \"float32\")\n",
        "\n",
        "# Initialise parameters\n",
        "REINFORCE_params = POLICY_NETWORK.init(random_key, dummy_obs)\n",
        "print(\"Initial params:\", REINFORCE_params.keys())\n",
        "\n",
        "# Pass input through the network\n",
        "output = POLICY_NETWORK.apply(REINFORCE_params, dummy_obs)\n",
        "print(\"Policy network output:\", output)\n"
      ]
    },
    {
      "cell_type": "markdown",
      "metadata": {
        "id": "MlouUBvoeunz"
      },
      "source": [
        "Выходы нашей сети политик — [логиты](https://qr.ae/pv4YTe). Чтобы преобразовать это в распределение вероятностей по действиям, мы передаем логиты в функцию [softmax](https://en.wikipedia.org/wiki/Softmax_function).\n",
        "\n",
        "### УСИЛЕНИЕ выбор функции действия\n",
        "\n",
        "**Упражнение 8:** Завершите функцию ниже, которая берет вектор логитов и случайным образом выбирает действие из категориального распределения, заданного логитами.\n",
        "\n",
        "**Полезные функции:**"
      ]
    },
    {
      "cell_type": "code",
      "execution_count": null,
      "metadata": {
        "id": "m3Z8DxUmeOGJ"
      },
      "outputs": [],
      "source": [
        "def sample_action(random_key, logits):\n",
        "\n",
        "  # YOUR CODE HERE\n",
        "  action = jax.random.categorical(random_key, logits)\n",
        "\n",
        "  # END YOUR code\n",
        "\n",
        "  return action"
      ]
    },
    {
      "cell_type": "code",
      "execution_count": null,
      "metadata": {
        "id": "5opHJMO0D_Ub",
        "colab": {
          "base_uri": "https://localhost:8080/"
        },
        "outputId": "838911cf-6eae-4ffc-b5fe-a0c3b93f5d13"
      },
      "outputs": [
        {
          "output_type": "stream",
          "name": "stdout",
          "text": [
            "Seems correct.\n"
          ]
        }
      ],
      "source": [
        "#@title Проверка упр 8 {display-mode: \"form\"}\n",
        "\n",
        "try:\n",
        "  random_key = jax.random.PRNGKey(42) # random key\n",
        "  action = sample_action(random_key, np.array([1,2], \"float32\"))\n",
        "  if action != 1:\n",
        "    print(\"Your function is incorrect.\")\n",
        "  else:\n",
        "    print(\"Seems correct.\")\n",
        "except Exception as e:\n",
        "    print(\"An Error Occured: {}\".format(e))"
      ]
    },
    {
      "cell_type": "markdown",
      "metadata": {
        "id": "jP5UH87VRjM4"
      },
      "source": [
        "Теперь мы можем реализовать функцию `REINFORCE_choose_action`. Мы передадим наблюдение через сеть политики для вычисления логитов, а затем передадим логиты в функцию `sample_action` для выбора и действия."
      ]
    },
    {
      "cell_type": "code",
      "execution_count": null,
      "metadata": {
        "id": "UJTzrDAZ0Ul5"
      },
      "outputs": [],
      "source": [
        "def REINFORCE_choose_action(key, params, actor_state, obs, evaluation=False):\n",
        "  obs = jnp.expand_dims(obs, axis=0) # add dummy batch dim before passing through network\n",
        "\n",
        "  # Pass obs through policy network to compute logits\n",
        "  logits = POLICY_NETWORK.apply(params, obs)\n",
        "  logits = logits[0] # remove batch dim\n",
        "\n",
        "  # Randomly sample action\n",
        "  sampled_action = sample_action(key, logits)\n",
        "\n",
        "  return sampled_action, actor_state"
      ]
    },
    {
      "cell_type": "markdown",
      "metadata": {
        "id": "NI26SLAb7iRo"
      },
      "source": [
        "Теперь, когда мы реализовали функцию `REINFORCE_choose_action`, нам осталось только создать функцию `REINFORCE_learn`. Функция обучения должна использовать функцию `weighted_log_prob`, которую мы создали ранее, чтобы вычислить потери градиента политики и применить обновления градиента к нашей нейронной сети."
      ]
    },
    {
      "cell_type": "markdown",
      "metadata": {
        "id": "36ALCJESQJ8e"
      },
      "source": [
        "### Policy gradient loss\n",
        "\n",
        "\n",
        "**Упражнение 9:** Завершите функцию `policy_gradient_loss` ниже. Функция должна вычислять вероятности действий, пропуская `logits` через функцию softmax. Затем следует извлечь вероятность заданного `action` (используя индексацию массива) и вычислить `weighted_log_prob`, используя функцию, которую мы создали ранее.\n",
        "\n",
        "**Полезные методы:**\n",
        "*   `jax.nn.softmax` ([docs](https://jax.readthedocs.io/en/latest/_autosummary/jax.nn.softmax.html))"
      ]
    },
    {
      "cell_type": "code",
      "execution_count": null,
      "metadata": {
        "id": "9sUKkqx0RjM4"
      },
      "outputs": [],
      "source": [
        "import jax.nn\n",
        "def policy_gradient_loss(action, logits, reward_to_go):\n",
        "\n",
        "    all_action_probs = jax.nn.softmax(logits)\n",
        "    print(\"all_action_probs:\", all_action_probs)\n",
        "\n",
        "    action_prob = all_action_probs[action]\n",
        "    print(\"action_prob:\", action_prob)\n",
        "\n",
        "    weighted_log_prob = compute_weighted_log_prob(action_prob, reward_to_go)\n",
        "    print(\"weighted_log_prob:\", weighted_log_prob)\n",
        "\n",
        "    loss = -weighted_log_prob\n",
        "\n",
        "    return loss"
      ]
    },
    {
      "cell_type": "code",
      "execution_count": null,
      "metadata": {
        "id": "7AMJvau1FsM5",
        "colab": {
          "base_uri": "https://localhost:8080/"
        },
        "outputId": "b73f35e1-916c-4bad-faf9-7884fa4e267b"
      },
      "outputs": [
        {
          "output_type": "stream",
          "name": "stdout",
          "text": [
            "all_action_probs: [0.26894143 0.7310586 ]\n",
            "action_prob: 0.7310586\n",
            "weighted_log_prob: -3.1326165\n",
            "Your implementation looks wrong.\n"
          ]
        }
      ],
      "source": [
        "#@title Проверка упр 9 {display-mode: \"form\"}\n",
        "\n",
        "try:\n",
        "  result = policy_gradient_loss(1, np.array([1,2], \"float32\"), 10)\n",
        "  if result != 3.1326175:\n",
        "    print(\"Your implementation looks wrong.\")\n",
        "  else:\n",
        "    print(\"Looks correct.\")\n",
        "except Exception as e:\n",
        "  print(\"An Error Occured: {}\".format(e))\n"
      ]
    },
    {
      "cell_type": "markdown",
      "metadata": {
        "id": "Gzuqx1jJrwVx"
      },
      "source": [
        "Когда мы делаем шаг обновления градиента политики, мы захотим сделать это, используя пакет опыта, а не просто один опыт, как выше. Мы можем использовать функцию JAX [vmap](https://jax.readthedocs.io/en/latest/_autosummary/jax.vmap.html#jax.vmap), чтобы легко заставить нашу функцию `policy_gradient_loss` работать с пакетом опыта."
      ]
    },
    {
      "cell_type": "code",
      "execution_count": null,
      "metadata": {
        "id": "3yq4naLURjM4",
        "colab": {
          "base_uri": "https://localhost:8080/"
        },
        "outputId": "5f1910a1-c327-4287-c8dc-b042cadb9a81"
      },
      "outputs": [
        {
          "output_type": "stream",
          "name": "stdout",
          "text": [
            "all_action_probs: Traced<ShapedArray(float32[2])>with<BatchTrace(level=1/0)> with\n",
            "  val = Array([[0.78713346, 0.21286654],\n",
            "       [0.78713346, 0.21286654],\n",
            "       [0.78713346, 0.21286654]], dtype=float32)\n",
            "  batch_dim = 0\n",
            "action_prob: Traced<ShapedArray(float32[])>with<BatchTrace(level=1/0)> with\n",
            "  val = Array([0.21286654, 0.78713346, 0.78713346], dtype=float32)\n",
            "  batch_dim = 0\n",
            "weighted_log_prob: Traced<ShapedArray(float32[])>with<BatchTrace(level=1/0)> with\n",
            "  val = Array([-3.5583065, -1.0292372, -0.5026507], dtype=float32)\n",
            "  batch_dim = 0\n",
            "Policy gradient loss on batch: 1.6967314\n"
          ]
        }
      ],
      "source": [
        "def batched_policy_gradient_loss(params, obs_batch, action_batch, reward_to_go_batch):\n",
        "    # Get logits by passing observation through network\n",
        "    logits_batch = POLICY_NETWORK.apply(params, obs_batch)\n",
        "\n",
        "    policy_gradient_loss_batch = jax.vmap(policy_gradient_loss)(\n",
        "        action_batch,\n",
        "        logits_batch,\n",
        "        reward_to_go_batch) # add batch\n",
        "\n",
        "    # Compute mean loss over batch\n",
        "    mean_policy_gradient_loss = jnp.mean(policy_gradient_loss_batch)\n",
        "\n",
        "    return mean_policy_gradient_loss\n",
        "\n",
        "# TEST\n",
        "obs_batch = np.ones((3, *obs_shape), \"float32\")\n",
        "actions_batch = np.array([1,0,0])\n",
        "rew2go_batch = np.array([2.3, 4.3, 2.1])\n",
        "\n",
        "loss = batched_policy_gradient_loss(REINFORCE_params, obs_batch, actions_batch, rew2go_batch)\n",
        "\n",
        "print(\"Policy gradient loss on batch:\", loss)"
      ]
    },
    {
      "cell_type": "markdown",
      "metadata": {
        "id": "VDhTH3culwqo"
      },
      "source": [
        "### Оптимизатор сети\n",
        "\n",
        "Чтобы применить обновления градиента политики к нашей нейронной сети, мы будем использовать библиотеку JAX под названием [Optax](https://github.com/deepmind/optax). Optax имеет реализацию [оптимизатора Adam](https://www.geeksforgeeks.org/intuition-of-adam-optimizer/), которую мы можем использовать."
      ]
    },
    {
      "cell_type": "code",
      "execution_count": null,
      "metadata": {
        "id": "pxXINlMHP5Ic"
      },
      "outputs": [],
      "source": [
        "REINFORCE_OPTIMIZER = optax.adam(1e-3)\n",
        "\n",
        "# Initialise the optimiser\n",
        "REINFORCE_optim_state = REINFORCE_OPTIMIZER.init(REINFORCE_params)"
      ]
    },
    {
      "cell_type": "markdown",
      "metadata": {
        "id": "ViENrHOALbCw"
      },
      "source": [
        "Теперь у нас есть все необходимое для создания функции `REINFORCE_learn`. Мы сохраним состояние оптимизатора в `learn_state`. Мы вычислим градиент потерь градиента политики с помощью  `jax.grad` ([docs](https://jax.readthedocs.io/en/latest/_autosummary/jax.grad.html))."
      ]
    },
    {
      "cell_type": "code",
      "execution_count": null,
      "metadata": {
        "id": "CQr2Uz5ORjM5"
      },
      "outputs": [],
      "source": [
        "# A NamedTuple to store the state of the optimiser\n",
        "REINFORCELearnState = collections.namedtuple(\"LearnerState\", [\"optim_state\"])\n",
        "\n",
        "\n",
        "def REINFORCE_learn(key, params, learner_state, memory):\n",
        "\n",
        "  # Get the policy gradient by using `jax.grad()` on `batched_policy_gradient_loss`\n",
        "  grad_loss = jax.grad(batched_policy_gradient_loss)(params, memory.obs, memory.action, memory.reward_to_go)\n",
        "\n",
        "  # Get param updates using gradient and optimizer\n",
        "  updates, new_optim_state = REINFORCE_OPTIMIZER.update(grad_loss, learner_state.optim_state)\n",
        "\n",
        "  # Apply updates to params\n",
        "  params = optax.apply_updates(params, updates)\n",
        "\n",
        "  return params, REINFORCELearnState(new_optim_state) # update learner state"
      ]
    },
    {
      "cell_type": "markdown",
      "metadata": {
        "id": "5an3U2NhRKgG"
      },
      "source": [
        "### Цикл обучения REINFORCE\n",
        "Теперь мы можем обучить нашего агента REINFORCE, собрав все воедино с помощью цикла обучения."
      ]
    },
    {
      "cell_type": "code",
      "execution_count": null,
      "metadata": {
        "id": "vioIcVGsRjM5",
        "colab": {
          "base_uri": "https://localhost:8080/",
          "height": 1000
        },
        "outputId": "78af6e00-c98e-4b3d-f6a9-14ab1bafd2ff"
      },
      "outputs": [
        {
          "output_type": "stream",
          "name": "stdout",
          "text": [
            "Starting training. This may take up to 10 minutes to complete.\n",
            "Episode: 0\tEpisode Return: 12.0\tAverage Episode Return: 12.0\tEvaluator Episode Return: 16.5\n",
            "all_action_probs: Traced<ShapedArray(float32[2])>with<BatchTrace(level=4/0)> with\n",
            "  val = Traced<ShapedArray(float32[256,2])>with<JVPTrace(level=3/0)> with\n",
            "    primal = Traced<ShapedArray(float32[256,2])>with<DynamicJaxprTrace(level=1/0)>\n",
            "    tangent = Traced<ShapedArray(float32[256,2])>with<JaxprTrace(level=2/0)> with\n",
            "      pval = (ShapedArray(float32[256,2]), None)\n",
            "      recipe = JaxprEqnRecipe(eqn_id=<object object at 0x7ddc899a94d0>, in_tracers=(Traced<ShapedArray(float32[256,2]):JaxprTrace(level=2/0)>, Traced<ShapedArray(float32[256,1]):JaxprTrace(level=2/0)>, Traced<ShapedArray(float32[256,1]):JaxprTrace(level=2/0)>, Traced<ShapedArray(float32[256,2]):JaxprTrace(level=2/0)>, Traced<ShapedArray(float32[256,1]):JaxprTrace(level=2/0)>), out_tracer_refs=[<weakref at 0x7ddc88594400; to 'JaxprTracer' at 0x7ddc885949f0>], out_avals=[ShapedArray(float32[256,2])], primitive=pjit, params={'jaxpr': { lambda ; a:f32[256,2] b:f32[256,1] c:f32[256,1] d:f32[256,2] e:f32[256,1]. let\n",
            "    f:f32[256,2] = div a c\n",
            "    g:f32[256,1] = neg b\n",
            "    h:f32[256,2] = mul g d\n",
            "    i:f32[256,2] = mul h e\n",
            "    j:f32[256,2] = add_any f i\n",
            "  in (j,) }, 'in_shardings': (UnspecifiedValue, UnspecifiedValue, UnspecifiedValue, UnspecifiedValue, UnspecifiedValue), 'out_shardings': (UnspecifiedValue,), 'in_layouts': (None, None, None, None, None), 'out_layouts': (None,), 'resource_env': None, 'donated_invars': (False, False, False, False, False), 'name': 'true_divide', 'keep_unused': False, 'inline': True}, effects=set(), source_info=<jax._src.source_info_util.SourceInfo object at 0x7ddc885811b0>, ctx=JaxprEqnContext(compute_type=None,threefry_partitionable=False),xla_metadata={})\n",
            "  batch_dim = 0\n",
            "action_prob: Traced<ShapedArray(float32[])>with<BatchTrace(level=4/0)> with\n",
            "  val = Traced<ShapedArray(float32[256])>with<JVPTrace(level=3/0)> with\n",
            "    primal = Traced<ShapedArray(float32[256])>with<DynamicJaxprTrace(level=1/0)>\n",
            "    tangent = Traced<ShapedArray(float32[256])>with<JaxprTrace(level=2/0)> with\n",
            "      pval = (ShapedArray(float32[256]), None)\n",
            "      recipe = JaxprEqnRecipe(eqn_id=<object object at 0x7ddc899a9640>, in_tracers=(Traced<ShapedArray(float32[256,1]):JaxprTrace(level=2/0)>,), out_tracer_refs=[<weakref at 0x7ddc88537560; to 'JaxprTracer' at 0x7ddc88537470>], out_avals=[ShapedArray(float32[256])], primitive=squeeze, params={'dimensions': (1,)}, effects=frozenset(), source_info=<jax._src.source_info_util.SourceInfo object at 0x7ddc88582aa0>, ctx=JaxprEqnContext(compute_type=None,threefry_partitionable=False),xla_metadata={})\n",
            "  batch_dim = 0\n",
            "weighted_log_prob: Traced<ShapedArray(float32[])>with<BatchTrace(level=4/0)> with\n",
            "  val = Traced<ShapedArray(float32[256])>with<JVPTrace(level=3/0)> with\n",
            "    primal = Traced<ShapedArray(float32[256])>with<DynamicJaxprTrace(level=1/0)>\n",
            "    tangent = Traced<ShapedArray(float32[256])>with<JaxprTrace(level=2/0)> with\n",
            "      pval = (ShapedArray(float32[256]), None)\n",
            "      recipe = JaxprEqnRecipe(eqn_id=<object object at 0x7ddc899a9a10>, in_tracers=(Traced<ShapedArray(float32[256]):JaxprTrace(level=2/0)>, Traced<ShapedArray(float32[256]):JaxprTrace(level=2/0)>), out_tracer_refs=[<weakref at 0x7ddc88595170; to 'JaxprTracer' at 0x7ddc88595530>], out_avals=[ShapedArray(float32[256])], primitive=pjit, params={'jaxpr': { lambda ; a:f32[256] b:f32[256]. let c:f32[256] = mul a b in (c,) }, 'in_shardings': (UnspecifiedValue, UnspecifiedValue), 'out_shardings': (UnspecifiedValue,), 'in_layouts': (None, None), 'out_layouts': (None,), 'resource_env': None, 'donated_invars': (False, False), 'name': '_multiply', 'keep_unused': False, 'inline': True}, effects=set(), source_info=<jax._src.source_info_util.SourceInfo object at 0x7ddc885a4850>, ctx=JaxprEqnContext(compute_type=None,threefry_partitionable=False),xla_metadata={})\n",
            "  batch_dim = 0\n",
            "Episode: 100\tEpisode Return: 60.0\tAverage Episode Return: 70.35\tEvaluator Episode Return: 66.0\n",
            "Episode: 200\tEpisode Return: 193.0\tAverage Episode Return: 181.2\tEvaluator Episode Return: 173.125\n",
            "Episode: 300\tEpisode Return: 200.0\tAverage Episode Return: 175.4\tEvaluator Episode Return: 200.0\n",
            "Episode: 400\tEpisode Return: 200.0\tAverage Episode Return: 163.75\tEvaluator Episode Return: 126.125\n",
            "Episode: 500\tEpisode Return: 200.0\tAverage Episode Return: 200.0\tEvaluator Episode Return: 200.0\n",
            "Episode: 600\tEpisode Return: 200.0\tAverage Episode Return: 200.0\tEvaluator Episode Return: 200.0\n",
            "Episode: 700\tEpisode Return: 191.0\tAverage Episode Return: 181.85\tEvaluator Episode Return: 172.375\n",
            "Episode: 800\tEpisode Return: 200.0\tAverage Episode Return: 200.0\tEvaluator Episode Return: 177.625\n",
            "Episode: 900\tEpisode Return: 200.0\tAverage Episode Return: 200.0\tEvaluator Episode Return: 200.0\n",
            "Episode: 1000\tEpisode Return: 200.0\tAverage Episode Return: 200.0\tEvaluator Episode Return: 200.0\n"
          ]
        },
        {
          "output_type": "display_data",
          "data": {
            "text/plain": [
              "<Figure size 640x480 with 1 Axes>"
            ],
            "image/png": "[encoded data removed]"
          },
          "metadata": {}
        }
      ],
      "source": [
        "# JIT the choose_action and learn functions for more speed\n",
        "REINFORCE_learn_jit = jax.jit(REINFORCE_learn)\n",
        "REINFORCE_choose_action_jit = jax.jit(REINFORCE_choose_action)\n",
        "\n",
        "# Initial learn state\n",
        "REINFORCE_learn_state = REINFORCELearnState(REINFORCE_optim_state)\n",
        "\n",
        "# Run training loop\n",
        "print(\"Starting training. This may take up to 10 minutes to complete.\")\n",
        "episode_returns, evaluator_returns = run_training_loop(\n",
        "                                        env_name,\n",
        "                                        REINFORCE_params,\n",
        "                                        REINFORCE_choose_action_jit,\n",
        "                                        None, # action state not used\n",
        "                                        REINFORCE_learn_jit,\n",
        "                                        REINFORCE_learn_state,\n",
        "                                        REINFORCE_memory,\n",
        "                                        num_episodes=1001,\n",
        "                                        learn_steps_per_episode=2,\n",
        "                                        video_subdir=\"reinforce\"\n",
        "                                      )\n",
        "\n",
        "# Plot the episode returns\n",
        "plt.plot(episode_returns)\n",
        "plt.xlabel(\"Episode\")\n",
        "plt.ylabel(\"Episode Return\")\n",
        "plt.title(\"REINFORCE\")\n",
        "plt.show()\n"
      ]
    },
    {
      "cell_type": "code",
      "execution_count": null,
      "metadata": {
        "id": "caKL3ngNr_Yh",
        "colab": {
          "base_uri": "https://localhost:8080/",
          "height": 288
        },
        "outputId": "96f8a0f7-0976-4487-ba9f-cd622803d3b8"
      },
      "outputs": [
        {
          "output_type": "execute_result",
          "data": {
            "text/plain": [
              "<IPython.core.display.HTML object>"
            ],
            "text/html": [
              "\n",
              "<video width=400 controls>\n",
              "      <source src=\"data:video/mp4;base64,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\" type=\"video/mp4\">\n",
              "</video>\n"
            ]
          },
          "metadata": {},
          "execution_count": 62
        }
      ],
      "source": [
        "#@title Визуализация {display-mode: \"form\"}\n",
        "#@markdown Выберите номер эпизода, менее или равного 1000, и **run this cell**.\n",
        "\n",
        "episode_number = 1000 #@param {type:\"number\"}\n",
        "\n",
        "assert (episode_number % 100) == 0, \"Episode number must be a multiple of 100 since we only record every 100th episode.\"\n",
        "assert episode_number < 1001, \"Episode number must be less than or equal to 1000\"\n",
        "\n",
        "eval_episode_number = int(episode_number / 100 * 8)\n",
        "video_path = f\"./video/reinforce/eval/rl-video-episode-{eval_episode_number}.mp4\"\n",
        "\n",
        "mp4 = open(video_path,'rb').read()\n",
        "data_url = \"data:video/mp4;base64,\" + b64encode(mp4).decode()\n",
        "HTML(\"\"\"\n",
        "<video width=400 controls>\n",
        "      <source src=\"%s\" type=\"video/mp4\">\n",
        "</video>\n",
        "\"\"\" % data_url)"
      ]
    },
    {
      "cell_type": "markdown",
      "metadata": {
        "id": "D_HHzFTOc-Qr"
      },
      "source": [
        "## 4. Q-Learning\n",
        "Другим распространенным подходом к поиску оптимальной политики в среде с использованием RL является Q-обучение."
      ]
    },
    {
      "cell_type": "markdown",
      "metadata": {
        "id": "lF1nOZrUSzhE"
      },
      "source": [
        "### Функция значения состояния-действия\n",
        "В Q-обучении агент изучает функцию, которая аппроксимирует **значение** пар состояние-действие. Под *значением* мы подразумеваем отдачу, которую вы ожидаете получить, если начнете в определенном состоянии $s_t$, выполните определенное действие $a_t$, а затем будете действовать в соответствии с определенной политикой $\\pi$ навсегда. Функция значения состояния-действия политики $\\pi$ задается как\n",
        "\n",
        "$Q_\\pi(s,a)=\\mathrm{E}_{\\tau\\sim\\pi}\\left[R(\\tau) \\mid s_0=s,\\ a_t=a\\right]$.\n",
        "\n",
        "Мы говорим, что функция значения $Q_\\pi(s,a)$ является **оптимальной** функцией значения, если политика $\\pi$ является оптимальной политикой. Обозначим функцию оптимального значения следующим образом:\n",
        "\n",
        "$Q_\\ast(s,a)=\\max \\limits_\\pi \\ \\mathrm{E}_{\\tau\\sim\\pi}\\left[R(\\tau) \\mid s_0=s,\\ a_0=a\\right]$\n",
        "\n",
        "Существует важная связь между оптимальным действием $a_\\ast$ в состоянии $s$ и оптимальной функцией значения состояния-действия $Q_\\ast$. А именно, оптимальное действие $a_\\ast$ в состоянии $s$ равно действию, которое максимизирует оптимальную функцию значения состояния-действия. Эта связь естественным образом индуцирует оптимальную политику:\n",
        "\n",
        "$\\pi_\\ast(s)=\\arg \\max \\limits_a\\ Q_\\ast(s, a)$"
      ]
    },
    {
      "cell_type": "markdown",
      "metadata": {
        "id": "H2x2tqvZSihz"
      },
      "source": [
        "### Greedy action selection (Жадный выбор действия)\n",
        "\n",
        "**Упражнение 10:** Давайте реализуем функцию, которая, учитывая вектор Q-значений, возвращает действие с наибольшим Q-значением (т. е. жадное действие).\n",
        "\n",
        "**Useful methods:**\n",
        "*   `jax.numpy.argmax` ([docs](https://jax.readthedocs.io/en/latest/_autosummary/jax.numpy.argmax.html))"
      ]
    },
    {
      "cell_type": "code",
      "execution_count": null,
      "metadata": {
        "id": "Nn9P1YdzTIDU"
      },
      "outputs": [],
      "source": [
        "# Implement a function takes q-values as input and returns the greedy_action\n",
        "def select_greedy_action(q_values):\n",
        "\n",
        "  # YOUR CODE\n",
        "  action = jnp.argmax(q_values)\n",
        "  # END YOUR CODE\n",
        "\n",
        "  return action"
      ]
    },
    {
      "cell_type": "code",
      "execution_count": null,
      "metadata": {
        "id": "ZBzLr_G7QKXR",
        "colab": {
          "base_uri": "https://localhost:8080/"
        },
        "outputId": "f6957ea8-6e7b-4e24-83ca-f64bdd36e086"
      },
      "outputs": [
        {
          "output_type": "stream",
          "name": "stdout",
          "text": [
            "Looks good.\n"
          ]
        }
      ],
      "source": [
        "# @title Проверка упр 10 (run me) {display-mode: \"form\"}\n",
        "\n",
        "try:\n",
        "  q_values = jnp.array([1,1,3,4])\n",
        "  action = select_greedy_action(q_values)\n",
        "\n",
        "  if action != 3:\n",
        "    print(\"Incorrect answer, your greedy action selector looks wrong\")\n",
        "  else:\n",
        "    print(\"Looks good.\")\n",
        "except Exception as e:\n",
        "  print(\"An Error Occured: {}\".format(e))\n"
      ]
    },
    {
      "cell_type": "markdown",
      "metadata": {
        "id": "PFQUlqZ4ZyLp"
      },
      "source": [
        "### Q-Network\n",
        "В отличие от подхода с градиентом политики из предыдущего раздела, в Q-обучении и других методах RL на основе значений нам не нужна параметризация для политики, вместо этого мы параметризуем Q-функцию с помощью нейронной сети $Q_\\theta$. Мы получаем политику из Q-сети, всегда выбирая действие с *наибольшим* значением:\n",
        "\n",
        "$\\hat{\\pi}_\\theta(s)=\\arg \\max \\limits_a\\ Q_{\\theta}(s, a)$\n",
        "\n",
        "Как и ранее, мы будем использовать хайку для создания нейронной сети для аппроксимации этой Q-функции. Сеть будет принимать наблюдение в качестве входных данных, а затем выводить Q-значение для каждого из доступных действий. Таким образом, в случае CartPole выход сети будет иметь размер $2$."
      ]
    },
    {
      "cell_type": "code",
      "execution_count": null,
      "metadata": {
        "id": "9wU1soJYZyLp"
      },
      "outputs": [],
      "source": [
        "def build_network(num_actions: int, layers=[20, 20]) -> hk.Transformed:\n",
        "  \"\"\"Factory for a simple MLP network for approximating Q-values.\"\"\"\n",
        "\n",
        "  def q_network(obs):\n",
        "    network = hk.Sequential(\n",
        "        [hk.Flatten(),\n",
        "         hk.nets.MLP(layers + [num_actions])])\n",
        "    return network(obs)\n",
        "\n",
        "  return hk.without_apply_rng(hk.transform(q_network))"
      ]
    },
    {
      "cell_type": "markdown",
      "metadata": {
        "id": "sUwG-4qTS1zx"
      },
      "source": [
        "Давайте инициализируем нашу Q-сеть и получим начальные параметры."
      ]
    },
    {
      "cell_type": "code",
      "execution_count": null,
      "metadata": {
        "id": "1uvq5n2cS9lu",
        "colab": {
          "base_uri": "https://localhost:8080/"
        },
        "outputId": "86284f50-832f-43e2-8745-462cf34ddf4f"
      },
      "outputs": [
        {
          "output_type": "stream",
          "name": "stdout",
          "text": [
            "Q-Learning params: dict_keys(['mlp/~/linear_0', 'mlp/~/linear_1', 'mlp/~/linear_2'])\n"
          ]
        }
      ],
      "source": [
        "# Initialise Q-network\n",
        "Q_NETWORK = build_network(num_actions=num_actions, layers=[20, 20]) # two actions\n",
        "\n",
        "dummy_obs = jnp.zeros((1,*obs_shape), jnp.float32) # a dummy observation like the one in CartPole\n",
        "\n",
        "random_key = jax.random.PRNGKey(42) # random key\n",
        "Q_NETWORK_PARAMS = Q_NETWORK.init(random_key, dummy_obs) # Get initial params\n",
        "\n",
        "print(\"Q-Learning params:\", Q_NETWORK_PARAMS.keys())"
      ]
    },
    {
      "cell_type": "markdown",
      "metadata": {
        "id": "iqCUeZfhEfyP"
      },
      "source": [
        "Прежде чем мы реализуем функцию потерь, необходимую для обучения нашей Q-сети, давайте сначала обсудим интуицию, стоящую за ней."
      ]
    },
    {
      "cell_type": "markdown",
      "metadata": {
        "id": "vbLig3uSZyLp"
      },
      "source": [
        "### The Bellman Equations (Уравнения Беллмана)\n",
        "Функция значения может быть записана рекурсивно как:\n",
        "\n",
        "$Q_{\\pi}(s, a) =\\underset{s^{\\prime} \\sim P}{\\mathrm{E}}\\left[r(s, a)+ \\underset{a^{\\prime} \\sim \\pi}{\\mathrm{E}}\\left[Q_{\\pi}\\left(s^{\\prime}, a^{\\prime}\\right)\\right]\\right]$,\n",
        "\n",
        "где $s' \\sim P$ — это сокращение для обозначения того, что следующее состояние $s'$ выбирается из функции перехода среды $P(s'\\mid s,a)$. Интуитивно это уравнение говорит, что ценность действия $a$, которое вы предприняли в состоянии $s$, равна вознаграждению $r$, которое вы ожидаете получить, плюс ценность, которую вы ожидаете получить в следующем состоянии $s`$, в котором вы окажетесь, при условии, что вы выберете свое следующее действие $a`$ с политикой $\\pi$. Уравнение Беллмана для оптимальной функции ценности выглядит так:\n",
        "\n",
        "$Q_{*}(s, a) =\\underset{s^{\\prime} \\sim P}{\\mathrm{E}}\\left[r(s, a)+\\ \\underset{a^{\\prime}}{\\max}\\ Q_{*}(s^{\\prime}, a^{\\prime})\\right]$\n",
        "\n",
        "Обратите внимание, что вместо выбора вашего следующего действия $a`$ с политикой $\\pi$ мы выбираем действие с наибольшим значением Q.\n",
        "\n",
        "Более подробное обсуждение уравнений Беллмана можно найти на сайте [OpenAI Spinning Up](https://spinningup.openai.com/en/latest/spinningup/rl_intro.html)."
      ]
    },
    {
      "cell_type": "markdown",
      "metadata": {
        "id": "DsOJi5G8ZyLp"
      },
      "source": [
        "### The Bellman Backup (Резервное копирование Беллмана)\n",
        "\n",
        "Чтобы научиться аппроксимировать оптимальную функцию Q-значения, мы можем использовать правую часть уравнения Беллмана в качестве правила обновления. Другими словами, предположим, что у нас есть Q-сеть $Q_\\theta$, аппроксимированная с использованием параметров $\\theta$, тогда мы можем итеративно обновлять параметры таким образом, что\n",
        "\n",
        "$Q_\\theta(s,a)\\leftarrow r(s, a) + \\underset{a'}{\\max}\\ Q_\\theta(s', a')$.\n",
        "\n",
        "Интуитивно это означает, что аппроксимация Q-значения действия $a$ в состоянии $s$ должна быть обновлена ​​таким образом, чтобы она была ближе к равной вознаграждению, полученному от среды $r(s, a)$, плюс значение наилучшего возможного действия в следующем состоянии $s'$. Мы можем выполнить эту оптимизацию, минимизируя разницу между левой и правой частью относительно параметров $\\theta$, используя градиентный спуск. Мы можем измерить разницу между двумя значениями, используя [квадратичную ошибку](https://en.wikipedia.org/wiki/Mean_squared_error#Loss_function).\n",
        "\n",
        "**Упражнение 11:** Реализуйте функцию квадратичной ошибки.\n",
        "\n",
        "**Полезные функции**\n",
        "* `jax.numpy.square` ([docs](https://jax.readthedocs.io/en/latest/_autosummary/jax.numpy.square.html))"
      ]
    },
    {
      "cell_type": "code",
      "execution_count": null,
      "metadata": {
        "id": "PTto__ohZyLp"
      },
      "outputs": [],
      "source": [
        "def compute_squared_error(pred, target):\n",
        "  # YOUR CODE\n",
        "  squared_error = jnp.square(pred - target)\n",
        "  # END YOUR CODE\n",
        "\n",
        "  return squared_error"
      ]
    },
    {
      "cell_type": "code",
      "execution_count": null,
      "metadata": {
        "id": "wGhX8XTFVPVU",
        "colab": {
          "base_uri": "https://localhost:8080/"
        },
        "outputId": "f1d77135-c68a-4dac-96ac-402ef0105b5a"
      },
      "outputs": [
        {
          "output_type": "stream",
          "name": "stdout",
          "text": [
            "Looks good.\n"
          ]
        }
      ],
      "source": [
        "#@title Проверка упр 11 {display-mode: \"form\"}\n",
        "\n",
        "try:\n",
        "  result = compute_squared_error(1, 4)\n",
        "\n",
        "  if result != 9:\n",
        "    print(\"Your implementation looks wrong.\")\n",
        "  else:\n",
        "    print(\"Looks good.\")\n",
        "except Exception as e:\n",
        "  print(\"An Error Occured: {}\".format(e))"
      ]
    },
    {
      "cell_type": "markdown",
      "metadata": {
        "id": "ycpZVkgdZyLp"
      },
      "source": [
        "**Упражнение 12:** Реализуйте функцию, которая вычисляет **цель Беллмана** (правая часть уравнения Беллмана). Если эпизод находится на последнем временном шаге (т. е. done==1.0), то цель Беллмана должна быть равна награде, без дополнительного значения в конце.\n",
        "\n",
        "**Полезные функции**\n",
        "* `jax.numpy.max` ([docs](https://jax.readthedocs.io/en/latest/_autosummary/jax.numpy.max.html))"
      ]
    },
    {
      "cell_type": "code",
      "execution_count": null,
      "metadata": {
        "id": "961_OllWZyLp"
      },
      "outputs": [],
      "source": [
        "# Bellman target\n",
        "def compute_bellman_target(reward, done, next_q_values):\n",
        "  \"\"\"A function to compute the bellman target.\n",
        "\n",
        "  Args:\n",
        "      reward: a scalar reward.\n",
        "      done: a scalar of value either 1.0 or 0.0, indicating if the transition is a terminal one.\n",
        "      next_q_values: a vector of q_values for the next state. One for each action.\n",
        "  Returns:\n",
        "      A scalar equal to the bellman target.\n",
        "\n",
        "  \"\"\"\n",
        "  # YOUR CODE\n",
        "  bellman_target = reward +  jnp.max(next_q_values) * (1.0 - done)\n",
        "  # END YOUR CODE\n",
        "\n",
        "  return bellman_target"
      ]
    },
    {
      "cell_type": "code",
      "execution_count": null,
      "metadata": {
        "id": "E5RAhegOWAkC",
        "colab": {
          "base_uri": "https://localhost:8080/"
        },
        "outputId": "0bb131b2-4bd8-43e9-ef4d-50cee2ccc63b"
      },
      "outputs": [
        {
          "output_type": "stream",
          "name": "stdout",
          "text": [
            "Looks good.\n"
          ]
        }
      ],
      "source": [
        "#@title Проверка упр 12 {display-mode: \"form\"}\n",
        "\n",
        "try:\n",
        "  # not done\n",
        "  result1 = compute_bellman_target(1, 0.0, np.array([3,2], \"float32\"))\n",
        "\n",
        "  # done\n",
        "  result2 = compute_bellman_target(1, 1.0, np.array([3,2], \"float32\"))\n",
        "\n",
        "  if result1 != 4 or result2 != 1:\n",
        "    print(\"Your implementation looks wrong.\")\n",
        "  else:\n",
        "    print(\"Looks good.\")\n",
        "except Exception as e:\n",
        "  print(\"An Error Occured: {}\".format(e))"
      ]
    },
    {
      "cell_type": "markdown",
      "metadata": {
        "id": "8sIjrHSJZyLq"
      },
      "source": [
        "Теперь мы можем объединить эти две функции, чтобы вычислить потерю для Q-обучения. Потери Q-обучения равны квадрату разницы между прогнозируемым значением Q действия и его соответствующей целью Беллмана.\n",
        "\n",
        "**Упражнение 13:** Реализуйте функцию потери Q-обучения."
      ]
    },
    {
      "cell_type": "code",
      "execution_count": null,
      "metadata": {
        "id": "LJY_kpFcZyLq"
      },
      "outputs": [],
      "source": [
        "def q_learning_loss(q_values, action, reward, done, next_q_values):\n",
        "    \"\"\"Implementation of the Q-learning loss.T\n",
        "\n",
        "    Args:\n",
        "        q_values: a vector of Q-values, one for each action.\n",
        "        action: an integer, giving the action that was chosen. q_values[action] is the value of the chose action.\n",
        "        done: is a scalar that indicates if this is a terminal transition.\n",
        "        next_q_values: a vector of Q-values in the next state.\n",
        "    Returns:\n",
        "        The squared difference between the q_value of the chosen action and the bellman target.\n",
        "    \"\"\"\n",
        "    # YOUR CODE\n",
        "    chosen_action_q_value =  q_values[action] # q_value of action, use array indexing\n",
        "    bellman_target = compute_bellman_target(reward, done, next_q_values)\n",
        "    squared_error = compute_squared_error(chosen_action_q_value, bellman_target)\n",
        "    # END YOUR CODE\n",
        "\n",
        "    return squared_error"
      ]
    },
    {
      "cell_type": "code",
      "execution_count": null,
      "metadata": {
        "id": "1aZRn1qaWx2M",
        "colab": {
          "base_uri": "https://localhost:8080/"
        },
        "outputId": "2eda4e57-0068-40ad-9ee6-cac883dae5b1"
      },
      "outputs": [
        {
          "output_type": "stream",
          "name": "stdout",
          "text": [
            "Looks good.\n"
          ]
        }
      ],
      "source": [
        "#@title Проверка упр 13 {display-mode: \"form\"}\n",
        "\n",
        "try:\n",
        "  result = q_learning_loss(np.array([3,2], \"float32\"), 1, 2, 0.0, np.array([3,2], \"float32\"))\n",
        "\n",
        "  if result != 9.0:\n",
        "    print(\"Your implementation looks wrong.\")\n",
        "  else:\n",
        "    print(\"Looks good.\")\n",
        "except Exception as e:\n",
        "  print(\"An Error Occured: {}\".format(e))"
      ]
    },
    {
      "cell_type": "markdown",
      "metadata": {
        "id": "b4YnSUfJZyLq"
      },
      "source": [
        "### Target Q-network (Целевая Q-сеть)\n",
        "Обратите внимание: когда мы вычисляем цель Беллмана, мы используем нашу Q-сеть $Q_\\theta$ для вычисления значения для следующего состояния $s_t$. По сути, мы используем наше последнее приближение Q-функции для вычисления цели нашего следующего приближения. Использование приближения для вычисления цели для вашего следующего приближения называется самозагрузкой. К сожалению, если мы наивно делаем такую ​​самозагрузку, это может сделать обучение нейронной сети очень нестабильным. Чтобы смягчить это, мы можем вместо этого использовать другой набор параметров $\\hat{\\theta}$ для вычисления значений в состоянии $s_{t+1}$. Мы будем сохранять параметры $\\hat{\\theta}$ фиксированными и только периодически обновлять их, чтобы они были равны последним онлайн-параметрам $\\theta$ каждые пару шагов обучения *(скажем, 100)*. Это позволяет сохранять фиксированные цели Беллмана для пары шагов обучения, чтобы помочь снизить нестабильность из-за самозагрузки.\n",
        "\n",
        "Нам нужно будет отслеживать последние (онлайн) параметры, а также параметры целевых сетей. Давайте создадим `NamedTuple` для хранения этих двух значений. Нам также нужно будет отслеживать количество шагов обучения, которые мы сделали, чтобы знать, когда обновлять целевую сеть. Давайте сохраним `count` шагов обучения в `learn_state`."
      ]
    },
    {
      "cell_type": "code",
      "execution_count": null,
      "metadata": {
        "id": "DvZqUKmq6L7k"
      },
      "outputs": [],
      "source": [
        "# Store online and target parameters\n",
        "QLearnParams = collections.namedtuple(\"Params\", [\"online\", \"target\"])\n",
        "\n",
        "# Q-learn-state\n",
        "QLearnState = collections.namedtuple(\"LearnerState\", [\"count\", \"optim_state\"])"
      ]
    },
    {
      "cell_type": "markdown",
      "metadata": {
        "id": "CJWH2_kNZsau"
      },
      "source": [
        "Мы снова будем использовать Optax для оптимизации нашей нейронной сети в JAX. Мы сохраняем состояние оптимизатора в `learn_state` выше. Давайте теперь создадим экземпляр оптимизатора и добавим начальные параметры Q-сети в объект `QLearnParams`."
      ]
    },
    {
      "cell_type": "code",
      "execution_count": null,
      "metadata": {
        "id": "HwqKTN6BaAXE"
      },
      "outputs": [],
      "source": [
        "# Initialise Q-network optimizer\n",
        "Q_LEARN_OPTIMIZER = optax.adam(3e-4) # learning rate\n",
        "\n",
        "Q_LEARN_OPTIM_STATE = Q_LEARN_OPTIMIZER.init(Q_NETWORK_PARAMS) # initial optim state\n",
        "\n",
        "# Create Learn State\n",
        "Q_LEARNING_LEARN_STATE = QLearnState(0, Q_LEARN_OPTIM_STATE) # count set to zero initially\n",
        "\n",
        "# Add initial Q-network weights to QLearnParams object\n",
        "Q_LEARNING_PARAMS = QLearnParams(online=Q_NETWORK_PARAMS, target=Q_NETWORK_PARAMS) # target equal to online"
      ]
    },
    {
      "cell_type": "markdown",
      "metadata": {
        "id": "xj89M8LgZlFe"
      },
      "source": [
        "Теперь мы можем реализовать простую функцию, которая обновляет параметры целевых сетей, чтобы они соответствовали последним онлайн-параметрам каждые 100 шагов обучения."
      ]
    },
    {
      "cell_type": "code",
      "execution_count": null,
      "metadata": {
        "id": "SKrg_3rO6cCL"
      },
      "outputs": [],
      "source": [
        "def update_target_params(learn_state, online_weights, target_weights):\n",
        "  \"\"\"A function to update target params every 100 training steps\"\"\"\n",
        "\n",
        "  target = jax.lax.cond(\n",
        "      jax.numpy.mod(learn_state.count, 100) == 0,\n",
        "      lambda x, y: x,\n",
        "      lambda x, y: y,\n",
        "      online_weights,\n",
        "      target_weights\n",
        "  )\n",
        "\n",
        "  params = QLearnParams(online_weights, target)\n",
        "\n",
        "  return params"
      ]
    },
    {
      "cell_type": "markdown",
      "metadata": {
        "id": "KoiaYSo9ZyLq"
      },
      "source": [
        "### Q-learning loss (Функция потери Q-обучения)\n",
        "Теперь у нас есть все необходимое для реализации функции `q_learn`, которая принимает некоторую партию переходов и выполняет шаг Q-обучения для обновления параметров сети. Но сначала мы используем `jax.vmap` для изменения функции `q_learning_loss` так, чтобы она принимала партии переходов. Кроме того, мы вычислим Q-значения, передавая наблюдения через `Q_NETWORK`, и целевые Q-значения, используя целевые параметры `Q_NETWORK`."
      ]
    },
    {
      "cell_type": "code",
      "execution_count": null,
      "metadata": {
        "id": "hnrsGppWZyLq"
      },
      "outputs": [],
      "source": [
        "def batched_q_learning_loss(online_params, target_params, obs, actions, rewards, next_obs, dones):\n",
        "    q_values = Q_NETWORK.apply(online_params, obs) # use the online parameters\n",
        "    next_q_values = Q_NETWORK.apply(target_params, next_obs) # use the target parameters\n",
        "    squared_error = jax.vmap(q_learning_loss)(q_values, actions, rewards, dones, next_q_values) # vmap q_learning_loss\n",
        "    mean_squared_error = jnp.mean(squared_error) # mean squared error over batch\n",
        "    return mean_squared_error"
      ]
    },
    {
      "cell_type": "markdown",
      "metadata": {
        "id": "CU8vo9ZebnEa"
      },
      "source": [
        "Теперь мы можем создать функцию `q_learn`, которая вычисляет градиент `batched_q_learning_loss`, а затем использует оптимизатор Optax для обновления весов сети, а затем, наконец (возможно), обновляет целевые параметры."
      ]
    },
    {
      "cell_type": "code",
      "execution_count": null,
      "metadata": {
        "id": "6BYoX2W_ZyLr"
      },
      "outputs": [],
      "source": [
        "def q_learn(rng, params, learner_state, memory):\n",
        "  # Compute gradients\n",
        "  grad_loss = jax.grad(batched_q_learning_loss)(params.online, params.target, memory.obs,\n",
        "                                          memory.action, memory.reward,\n",
        "                                          memory.next_obs, memory.done,\n",
        "                                          ) # jax.grad\n",
        "\n",
        "  # Get updates\n",
        "  updates, opt_state = Q_LEARN_OPTIMIZER.update(grad_loss, learner_state.optim_state)\n",
        "\n",
        "  # Apply them\n",
        "  new_weights = optax.apply_updates(params.online, updates)\n",
        "\n",
        "  # Maybe update target network\n",
        "  params = update_target_params(learner_state, new_weights, params.target)\n",
        "\n",
        "  # Increment learner step counter\n",
        "  learner_state = QLearnState(learner_state.count + 1, opt_state)\n",
        "\n",
        "  return params, learner_state"
      ]
    },
    {
      "cell_type": "markdown",
      "metadata": {
        "id": "VpZsKHssZyLq"
      },
      "source": [
        "### Replay Buffer (Буфер воспроизведения)\n",
        "Для Q-обучения нам понадобится память агента, которая хранит целые переходы: `obs`, `action`, `reward`, `next_obs`, `done`. Когда мы извлекаем переходы из памяти, они должны выбираться случайным образом из всех переходов, собранных до сих пор. В RL мы часто называем такой модуль **буфером воспроизведения**.\n",
        "\n",
        "Одним из преимуществ использования такого буфера воспроизведения является то, что опыт можно повторно использовать несколько раз для обучения, в отличие от алгоритма градиента политики REINFORCE, где мы отбрасывали воспоминания после их использования для обучения."
      ]
    },
    {
      "cell_type": "code",
      "execution_count": null,
      "metadata": {
        "id": "8tv5dUH6ZyLr"
      },
      "outputs": [],
      "source": [
        "class TransitionMemory(object):\n",
        "  \"\"\"A simple Python replay buffer.\"\"\"\n",
        "\n",
        "  def __init__(self, max_size=10_000, batch_size=256):\n",
        "    self.batch_size = batch_size\n",
        "    self.buffer = collections.deque(maxlen=max_size)\n",
        "\n",
        "  def push(self, transition):\n",
        "\n",
        "    # add transition to the replay buffer\n",
        "    self.buffer.append(\n",
        "        (transition.obs, transition.action, transition.reward,\n",
        "          transition.next_obs, transition.done)\n",
        "    )\n",
        "\n",
        "\n",
        "  def is_ready(self):\n",
        "    return self.batch_size <= len(self.buffer)\n",
        "\n",
        "  def sample(self):\n",
        "    # Randomly sample a batch of transitions from the buffer\n",
        "    random_replay_sample = random.sample(self.buffer, self.batch_size)\n",
        "\n",
        "    # Batch the transitions together\n",
        "    obs_batch, action_batch, reward_batch, next_obs_batch, done_batch = zip(*random_replay_sample)\n",
        "\n",
        "    return Transition(\n",
        "        np.stack(obs_batch).astype(\"float32\"),\n",
        "        np.asarray(action_batch).astype(\"int32\"),\n",
        "        np.asarray(reward_batch).astype(\"float32\"),\n",
        "        np.stack(next_obs_batch).astype(\"float32\"),\n",
        "        np.asarray(done_batch).astype(\"float32\")\n",
        "    )\n",
        "\n",
        "# Instantiate the memory\n",
        "Q_LEARNING_MEMORY = TransitionMemory(max_size=50_000, batch_size=256)"
      ]
    },
    {
      "cell_type": "markdown",
      "metadata": {
        "id": "XbHk03VVUHAV"
      },
      "source": [
        "### Случайное исследование\n",
        "У нас почти есть все, что нужно для функционирующего агента Q-обучения. Но одна проблема заключается в том, что если мы всегда выбираем действие с наивысшим значением Q, то политика агента будет полностью [детерминированной](https://www.quora.com/What-is-the-intuitive-difference-between-a-stochastic-model-and-a-deterministic-model). Это означает, что агент всегда будет выбирать одну и ту же стратегию. Это может представлять проблему, поскольку в начале обучения Q-сеть будет очень неточной (т. е. плохой аппроксимацией истинной Q-функции). Таким образом, агент будет последовательно выбирать неоптимальные действия. Более того, агент никогда не отклонится от своей неоптимальной стратегии и никогда не обнаружит новые, потенциально более полезные действия. В результате Q-сеть остается неточной. В идеале агент должен опробовать много разных стратегий, чтобы он мог наблюдать результаты (вознаграждения) своих действий в разных состояниях и таким образом улучшить приближение Q-функции.\n",
        "\n",
        "Один простой способ гарантировать, что агент опробует много разных действий, — позволить ему периодически выбирать некоторые случайные действия вместо жадного (лучшего) действия все время.\n",
        "\n",
        "**Упражнение 14:** Реализуйте функцию, которая, учитывая количество возможных (дискретных) действий, возвращает случайное действие.\n",
        "\n",
        "**Полезные методы:**\n",
        "\n",
        "*  `jax.random.randint` ([docs](https://jax.readthedocs.io/en/latest/_autosummary/jax.random.randint.html))"
      ]
    },
    {
      "cell_type": "code",
      "execution_count": null,
      "metadata": {
        "id": "uUKkpMLXUtko"
      },
      "outputs": [],
      "source": [
        "def select_random_action(key, num_actions):\n",
        "\n",
        "    # YOUR CODE\n",
        "    action = jax.random.randint(key, minval=0, maxval=num_actions, shape=())\n",
        "    # END YOUR CODE\n",
        "\n",
        "    return action"
      ]
    },
    {
      "cell_type": "code",
      "execution_count": null,
      "metadata": {
        "id": "NO6va6S2Y40E",
        "colab": {
          "base_uri": "https://localhost:8080/"
        },
        "outputId": "531c592a-72f5-40c3-881a-217effcf4156"
      },
      "outputs": [
        {
          "output_type": "stream",
          "name": "stdout",
          "text": [
            "Looks good.\n"
          ]
        }
      ],
      "source": [
        "#@title Проверка упр 14 {display-mode: \"form\"}\n",
        "\n",
        "try:\n",
        "  random_key1 = random_key = jax.random.PRNGKey(6) # random key\n",
        "  random_key2 = random_key = jax.random.PRNGKey(1000) # random key\n",
        "  result1 = select_random_action(random_key1, 2)\n",
        "  result2 = select_random_action(random_key2, 2)\n",
        "\n",
        "  if result1 != 1 or result2 != 0:\n",
        "    print(\"Your implementation looks wrong.\")\n",
        "  else:\n",
        "    print(\"Looks good.\")\n",
        "except:\n",
        "  print(\"Your implementation looks wrong.\")"
      ]
    },
    {
      "cell_type": "markdown",
      "metadata": {
        "id": "8-kKDFT6XU6y"
      },
      "source": [
        "### $\\varepsilon$-greedy action selection (эпсилон жадный выбор действия)\n",
        "В начале обучения, когда точность Q-сети низкая, агенту стоит в основном совершать случайные действия, чтобы он мог узнать, насколько хороши/плохи действия. Однако по мере повышения точности Q-сети агент должен начать совершать меньше случайных действий и вместо этого начать выбирать жадные действия относительно Q-значений. Выбор лучших действий с учетом текущей Q-сети называется **эксплуатацией**. В RL мы часто называем отношение случайных и жадных действий **эпсилоном** $\\varepsilon$. Эпсилон обычно представляет собой десятичное значение в интервале $[0,1]$, где, например, $\\varepsilon=0.4$ означает, что агент выбирает случайное действие в 40% случаев, а жадное действие — в 60% случаев. В RL принято линейно уменьшать значение эпсилон с течением времени, так что агент становится все более жадным по мере повышения точности его Q-сети в процессе обучения.\n",
        "\n",
        "**Упражнение 15:** Реализуйте функцию, которая принимает количество временных шагов в качестве входных данных и возвращает текущее значение эпсилон."
      ]
    },
    {
      "cell_type": "code",
      "execution_count": null,
      "metadata": {
        "id": "_qejnbCocurG"
      },
      "outputs": [],
      "source": [
        "EPSILON_DECAY_TIMESTEPS = 3000 # decay epsilon over 3000 timesteps\n",
        "EPSILON_MIN = 0.1 # 10% exploration"
      ]
    },
    {
      "cell_type": "code",
      "execution_count": null,
      "metadata": {
        "id": "5ujSbssCZyLs"
      },
      "outputs": [],
      "source": [
        "import jax.numpy as jnp\n",
        "import jax.lax\n",
        "def get_epsilon(num_timesteps):\n",
        "  # YOUR CODE\n",
        "  epsilon = 1.0 - (num_timesteps/EPSILON_DECAY_TIMESTEPS) # decay epsilon\n",
        "\n",
        "  epsilon = jax.lax.select(\n",
        "      epsilon < EPSILON_MIN,\n",
        "      EPSILON_MIN, # if less than min then set to min\n",
        "      epsilon # else don't change epsilon\n",
        "  )\n",
        "  # END YOUR CODE\n",
        "\n",
        "  return epsilon"
      ]
    },
    {
      "cell_type": "code",
      "execution_count": null,
      "metadata": {
        "id": "hvu4zA64aUou",
        "colab": {
          "base_uri": "https://localhost:8080/"
        },
        "outputId": "787fce7a-e751-447c-ddd8-1fc3977de0e5"
      },
      "outputs": [
        {
          "output_type": "stream",
          "name": "stdout",
          "text": [
            "Your function looks correct.\n"
          ]
        }
      ],
      "source": [
        "#@title Проверка упр 15 {display-mode: \"form\"}\n",
        "def check_get_epsilon(get_epsilon):\n",
        "  try:\n",
        "    result1 = get_epsilon(10)\n",
        "    result2 = get_epsilon(5_010)\n",
        "\n",
        "    if result1 != 0.99666667 or result2 != 0.1:\n",
        "      print(\"Your function looks wrong.\")\n",
        "    else:\n",
        "      print(\"Your function looks correct.\")\n",
        "  except:\n",
        "    print(\"Your function looks wrong.\")\n",
        "\n",
        "check_get_epsilon(get_epsilon)\n"
      ]
    },
    {
      "cell_type": "markdown",
      "metadata": {
        "id": "t56oo58TVQ_s"
      },
      "source": [
        "**Упражнение 16:** Теперь давайте объединим эти функции для выполнения эпсилон-жадного выбора действия."
      ]
    },
    {
      "cell_type": "code",
      "execution_count": null,
      "metadata": {
        "id": "NlQx8K4vKUXj"
      },
      "outputs": [],
      "source": [
        "def select_epsilon_greedy_action(key, q_values, num_timesteps):\n",
        "    num_actions = len(q_values) # number of available actions\n",
        "\n",
        "    # YOUR CODE HERE\n",
        "    epsilon = get_epsilon(num_timesteps) # get epsilon value\n",
        "\n",
        "    should_explore = jax.random.uniform(key, shape=()) < epsilon # hint: a boolean expression to check if some random number is less than epsilon\n",
        "\n",
        "    explore_action = select_random_action(key, num_actions)\n",
        "    greedy_action = jax.numpy.argmax(q_values)\n",
        "\n",
        "    action = jax.lax.select(\n",
        "        should_explore,\n",
        "        explore_action, # if should explore\n",
        "        greedy_action # if should be greedy\n",
        "    )\n",
        "    # END YOUR CODE\n",
        "\n",
        "    return action"
      ]
    },
    {
      "cell_type": "code",
      "execution_count": null,
      "metadata": {
        "id": "mkVU2a5e7P6b",
        "colab": {
          "base_uri": "https://localhost:8080/"
        },
        "outputId": "776c1596-4d97-4f6c-f3a7-908674b435fe"
      },
      "outputs": [
        {
          "output_type": "stream",
          "name": "stdout",
          "text": [
            "Looks correct!\n"
          ]
        }
      ],
      "source": [
        "#@title Проверка упражнения 16 {display-mode: \"form\"}\n",
        "\n",
        "try:\n",
        "  rng = hk.PRNGSequence(jax.random.PRNGKey(42))\n",
        "  dummy_q_values = jnp.array([0,1], jnp.float32)\n",
        "  num_timesteps = 5010 # very greedy\n",
        "  actions1 = []\n",
        "  for i in range(10):\n",
        "      actions1.append(int(select_epsilon_greedy_action(next(rng), dummy_q_values, num_timesteps)))\n",
        "\n",
        "  num_timesteps = 0 # completly random\n",
        "  actions2 = []\n",
        "  for i in range(10):\n",
        "      actions2.append(int(select_epsilon_greedy_action(next(rng), dummy_q_values, num_timesteps)))\n",
        "\n",
        "  if actions1 != [1, 1, 0, 1, 1, 0, 1, 1, 1, 1] or actions2 != [0, 0, 0, 1, 1, 1, 1, 0, 0, 0]:\n",
        "    print(\"Looks like something might be incorrect!\")\n",
        "  else:\n",
        "    print(\"Looks correct!\")\n",
        "except:\n",
        "  print(\"Looks like something might be incorrect!\")"
      ]
    },
    {
      "cell_type": "markdown",
      "metadata": {
        "id": "y5W23MnobN9x"
      },
      "source": [
        "### Действие выбора Q-learning\n",
        "\n",
        "Теперь у нас есть все необходимое для создания функции `q_learning_select_action`. Мы будем использовать `actor_state` для хранения счетчика, который отслеживает текущее количество временных шагов. Мы можем использовать счетчик для уменьшения нашего значения `epsilon`."
      ]
    },
    {
      "cell_type": "code",
      "execution_count": null,
      "metadata": {
        "id": "81TysLc0RjM6"
      },
      "outputs": [],
      "source": [
        "# Actor state stores the current number of timesteps\n",
        "QActorState = collections.namedtuple(\"ActorState\", [\"count\"])\n",
        "\n",
        "def q_learning_select_action(key, params, actor_state, obs, evaluation=False):\n",
        "    obs = jnp.expand_dims(obs, axis=0) # add dummy batch dim\n",
        "    q_values = Q_NETWORK.apply(params.online, obs)[0] # remove batch dim\n",
        "\n",
        "    action = select_epsilon_greedy_action(key, q_values, actor_state.count)\n",
        "    greedy_action = select_greedy_action(q_values)\n",
        "\n",
        "    action = jax.lax.select(\n",
        "        evaluation,\n",
        "        greedy_action,\n",
        "        action\n",
        "    )\n",
        "\n",
        "    next_actor_state = QActorState(actor_state.count + 1) # increment timestep counter\n",
        "\n",
        "    return action, next_actor_state\n",
        "\n",
        "Q_LEARNING_ACTOR_STATE = QActorState(0) # counter set to zero"
      ]
    },
    {
      "cell_type": "markdown",
      "metadata": {
        "id": "z884-1oNRGEr"
      },
      "source": [
        "### Обучение\n",
        "Теперь мы можем собрать все вместе, используя цикл агент-среда. Но сначала давайте объединим функцию выбора действия и функцию обучения для дополнительной скорости."
      ]
    },
    {
      "cell_type": "code",
      "execution_count": null,
      "metadata": {
        "id": "xbdHDbd1RjM8",
        "colab": {
          "base_uri": "https://localhost:8080/",
          "height": 680
        },
        "outputId": "2b1f3d18-e549-4567-bc1f-174a21a0fe7c"
      },
      "outputs": [
        {
          "output_type": "stream",
          "name": "stdout",
          "text": [
            "Starting training. This may take up to 8 minutes to complete.\n",
            "Episode: 0\tEpisode Return: 19.0\tAverage Episode Return: 19.0\tEvaluator Episode Return: 9.5\n",
            "Episode: 100\tEpisode Return: 11.0\tAverage Episode Return: 14.85\tEvaluator Episode Return: 9.75\n",
            "Episode: 200\tEpisode Return: 9.0\tAverage Episode Return: 10.5\tEvaluator Episode Return: 9.5\n",
            "Episode: 300\tEpisode Return: 11.0\tAverage Episode Return: 9.95\tEvaluator Episode Return: 9.25\n",
            "Episode: 400\tEpisode Return: 35.0\tAverage Episode Return: 19.8\tEvaluator Episode Return: 45.875\n",
            "Episode: 500\tEpisode Return: 35.0\tAverage Episode Return: 33.15\tEvaluator Episode Return: 39.375\n",
            "Episode: 600\tEpisode Return: 39.0\tAverage Episode Return: 46.0\tEvaluator Episode Return: 37.75\n",
            "Episode: 700\tEpisode Return: 38.0\tAverage Episode Return: 46.1\tEvaluator Episode Return: 44.75\n",
            "Episode: 800\tEpisode Return: 82.0\tAverage Episode Return: 79.9\tEvaluator Episode Return: 81.5\n",
            "Episode: 900\tEpisode Return: 200.0\tAverage Episode Return: 200.0\tEvaluator Episode Return: 200.0\n",
            "Episode: 1000\tEpisode Return: 200.0\tAverage Episode Return: 200.0\tEvaluator Episode Return: 200.0\n"
          ]
        },
        {
          "output_type": "display_data",
          "data": {
            "text/plain": [
              "<Figure size 640x480 with 1 Axes>"
            ],
            "image/png": "[encoded data removed]"
          },
          "metadata": {}
        }
      ],
      "source": [
        "# Jit functions\n",
        "q_learning_select_action_jit = jax.jit(q_learning_select_action)\n",
        "q_learn_jit = jax.jit(q_learn)\n",
        "\n",
        "# Run environment loop\n",
        "print(\"Starting training. This may take up to 8 minutes to complete.\")\n",
        "episode_returns, evaluator_returns = run_training_loop(\n",
        "                                        env_name,\n",
        "                                        Q_LEARNING_PARAMS,\n",
        "                                        q_learning_select_action_jit,\n",
        "                                        Q_LEARNING_ACTOR_STATE,\n",
        "                                        q_learn_jit,\n",
        "                                        Q_LEARNING_LEARN_STATE,\n",
        "                                        Q_LEARNING_MEMORY,\n",
        "                                        num_episodes=1001,\n",
        "                                        train_every_timestep=True, # do learning after every timestep\n",
        "                                        video_subdir=\"q_learning\"\n",
        "                                    )\n",
        "\n",
        "plt.plot(episode_returns)\n",
        "plt.xlabel(\"Episodes\")\n",
        "plt.ylabel(\"Episode Return\")\n",
        "plt.title(\"Deep Q-Learning\")\n",
        "plt.show()"
      ]
    },
    {
      "cell_type": "markdown",
      "metadata": {
        "id": "2k0-41wbpFDE"
      },
      "source": [
        "На этом этапе, как мы надеемся, приближенная Q-функция сошлась к приемлемой политике балансировки шеста в задаче CartPole."
      ]
    },
    {
      "cell_type": "code",
      "execution_count": null,
      "metadata": {
        "id": "t4v0ZbB4FQUs",
        "colab": {
          "base_uri": "https://localhost:8080/"
        },
        "outputId": "65dc251f-e0bf-46bb-ff27-0859774e0c04",
        "cellView": "form"
      },
      "outputs": [
        {
          "output_type": "execute_result",
          "data": {
            "text/plain": [
              "<IPython.core.display.HTML object>"
            ],
            "text/html": [
              "\n",
              "<video width=400 controls>\n",
              "      <source src=\"data:video/mp4;base64,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\" type=\"video/mp4\">\n",
              "</video>\n"
            ]
          },
          "metadata": {},
          "execution_count": 99
        }
      ],
      "source": [
        "#@title Визуализация политики\n",
        "#@markdown Выберите номер эпизода, кратный 100 и меньший или равный 1000, и **запустите эту ячейку**.\n",
        "episode_number = 1000 #@param {type:\"number\"}\n",
        "\n",
        "assert (episode_number % 100) == 0, \"Episode number must be a multiple of 100 since we only record every 100th episode.\"\n",
        "assert episode_number < 1001, \"Episode number must be less than or equal to 1000\"\n",
        "\n",
        "\n",
        "eval_episode_number = int(episode_number / 100 * 8)\n",
        "video_path = f\"./video/q_learning/eval/rl-video-episode-{eval_episode_number}.mp4\"\n",
        "\n",
        "mp4 = open(video_path,'rb').read()\n",
        "data_url = \"data:video/mp4;base64,\" + b64encode(mp4).decode()\n",
        "HTML(\"\"\"\n",
        "<video width=400 controls>\n",
        "      <source src=\"%s\" type=\"video/mp4\">\n",
        "</video>\n",
        "\"\"\" % data_url)"
      ]
    },
    {
      "cell_type": "markdown",
      "metadata": {
        "id": "fV3YG7QOZD-B"
      },
      "source": [
        "Кроме того, существует множество алгоритмов RL, которые вносят существенные улучшения в REINFORCE и Deep Q-Learning. См. эти ресурсы:\n",
        "* [REINFORCE с базовым уровнем](https://spinningup.openai.com/en/latest/spinningup/rl_intro3.html#baselines-in-policy-gradients)\n",
        "* [Double Deep Q-Network](https://arxiv.org/pdf/1509.06461.pdf)\n",
        "* [Proximal Policy Optimisation (PPO)](https://arxiv.org/pdf/1707.06347.pdf)\n",
        "\n",
        "Если вы ищете более углубленный онлайн-курс по RL, вы можете ознакомиться с этими курсами:\n",
        "* [Reinforcement Learning Foundations on LinkedIn Learning](https://www.linkedin.com/learning/reinforcement-learning-foundations) (создано одним из наших собственных преподавателей, Хаулатом Абдулхакимом)\n",
        "* [Введение в Reinforcement Learning on FreeCodeCamp](https://www.freecodecamp.org/news/an-introduction-to-reinforcement-learning-4339519de419/)\n",
        "* [Специализация обучения с подкреплением на Coursera](https://www.coursera.org/specializations/reinforcement-learning)\n",
        "\n",
        "Наконец, самый влиятельный учебник по обучению с подкреплением доступен бесплатно онлайн:\n",
        "* [Обучение с подкреплением: введение](http://incompleteideas.net/book/the-book-2nd.html) Ричарда С. Саттона и Эндрю Г. Барто\n",
        "\n",
        "\n",
        "**Ссылки:**\n",
        "\n",
        "* [OpenAI Spinning Up](https://spinningup.openai.com/en/latest/)\n",
        "* [Deep Q-Network]()"
      ]
    },
    {
      "cell_type": "code",
      "source": [],
      "metadata": {
        "id": "6V47Vd_i3qk7"
      },
      "execution_count": null,
      "outputs": []
    }
  ],
  "metadata": {
    "colab": {
      "provenance": [],
      "gpuType": "T4",
      "include_colab_link": true
    },
    "kernelspec": {
      "display_name": "Python 3",
      "name": "python3"
    },
    "language_info": {
      "codemirror_mode": {
        "name": "ipython",
        "version": 3
      },
      "file_extension": ".py",
      "mimetype": "text/x-python",
      "name": "python",
      "nbconvert_exporter": "python",
      "pygments_lexer": "ipython3",
      "version": "3.8.13"
    },
    "vscode": {
      "interpreter": {
        "hash": "0f35138c66f99be0fd7a1210bb4aa94a6fbaa5f29d51ad43aec0e0ea0ff050f0"
      }
    }
  },
  "nbformat": 4,
  "nbformat_minor": 0
}